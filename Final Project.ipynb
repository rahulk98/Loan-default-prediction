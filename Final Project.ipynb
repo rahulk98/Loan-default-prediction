{
 "cells": [
  {
   "cell_type": "code",
   "execution_count": 9,
   "metadata": {},
   "outputs": [
    {
     "name": "stderr",
     "output_type": "stream",
     "text": [
      "/usr/local/lib/python3.7/site-packages/sklearn/preprocessing/data.py:645: DataConversionWarning: Data with input dtype int64, float64 were all converted to float64 by StandardScaler.\n",
      "  return self.partial_fit(X, y)\n",
      "/usr/local/lib/python3.7/site-packages/sklearn/base.py:464: DataConversionWarning: Data with input dtype int64, float64 were all converted to float64 by StandardScaler.\n",
      "  return self.fit(X, **fit_params).transform(X)\n"
     ]
    },
    {
     "name": "stdout",
     "output_type": "stream",
     "text": [
      "(188180, 44)\n"
     ]
    }
   ],
   "source": [
    "#Data preprocessing\n",
    "import numpy as np\n",
    "import pandas as pd\n",
    "import matplotlib.pyplot as plt\n",
    "from sklearn.preprocessing import LabelEncoder,StandardScaler\n",
    "\n",
    "#Data preprocessing\n",
    "data = pd.read_csv('LoanStats3b.csv',skiprows=1,low_memory=False)\n",
    "data = data.drop([data.index[len(data)-1], data.index[len(data)-2]])\n",
    "c = []\n",
    "#Dropping columns filled with more than half null values\n",
    "data = data.dropna(thresh = len(data)*9/10,axis=1)\n",
    "#Removing redundant and irrelevant columns\n",
    "#Removing columns which have same values throughout\n",
    "del_col = ['funded_amnt_inv','emp_title','pymnt_plan','title','zip_code','out_prncp','out_prncp_inv','funded_amnt','total_pymnt_inv','policy_code','application_type','delinq_amnt','hardship_flag','debt_settlement_flag','earliest_cr_line','last_pymnt_d','last_credit_pull_d','revol_util']\n",
    "data = data.drop(labels = del_col,axis=1)\n",
    "\n",
    "#Removing percentage from rate\n",
    "#Selecting month from date and no of months from term\n",
    "data.iloc[:,2] = data.iloc[:,2].apply(lambda x: float(x[:-1]))\n",
    "data.iloc[:,1] = data.iloc[:,1].apply(lambda x: float(x[:-7]))\n",
    "data.iloc[:,10] = data.iloc[:,10].apply(lambda x:(x[:-5]))\n",
    "\n",
    "#Converting employed length to numerical form\n",
    "data[\"emp_length\"] = data[\"emp_length\"].replace({'years':'','year':'',' ':'','<':'','\\+':'','n/a':'0'}, regex = True)\n",
    "data[\"emp_length\"] = data[\"emp_length\"].apply(lambda x:float(x))\n",
    "#Converting months to numerical form\n",
    "month = {'Jan':1, 'Feb':2,'Mar':3, 'Apr':4, 'May':5, 'Jun':6,'Jul':7,'Aug':8,'Sep':9, 'Oct':10,'Nov':11, 'Dec':12}\n",
    "data['issue_d'] = data['issue_d'].replace(month)\n",
    "data['issue_d'] = data['issue_d'].apply(lambda x:int(x))\n",
    "#Converting the output from labels to classes\n",
    "data = data[(data['loan_status']==\"Fully Paid\") | (data['loan_status']==\"Charged Off\")]\n",
    "di = {\"Fully Paid\":0, \"Charged Off\":1}   #converting target variable to boolean\n",
    "data= data.replace({\"loan_status\": di})\n",
    "data = data[[c for c in data if c not in ['loan_status']] + ['loan_status']]\n",
    "#Converting categorical data to numerical form\n",
    "string_label = ['grade','sub_grade','home_ownership','verification_status','purpose','addr_state','initial_list_status']\n",
    "for i in string_label:\n",
    "    le = LabelEncoder()\n",
    "    data[i] = le.fit_transform(data[i])\n",
    "\n",
    "#Applying standardization\n",
    "scl = StandardScaler()\n",
    "fields = data.columns.values[:-1]\n",
    "#Filling null values by mean\n",
    "data.fillna(data.mean(),inplace = True)\n",
    "\n",
    "data_clean = pd.DataFrame(scl.fit_transform(data[fields]), columns = fields)\n",
    "\n",
    "\n",
    "data_clean['loan_status'] = data['loan_status']\n",
    "\n",
    "data_clean['loan_status'].fillna(0, inplace=True)\n",
    "\n",
    "data_clean.to_csv('loanCleaned.csv', index=False)\n",
    "print(data.shape)"
   ]
  },
  {
   "cell_type": "code",
   "execution_count": 11,
   "metadata": {},
   "outputs": [
    {
     "name": "stdout",
     "output_type": "stream",
     "text": [
      "loan_amnt                     0.002726\n",
      "term                          0.003856\n",
      "int_rate                      0.009593\n",
      "installment                   0.002980\n",
      "grade                         0.008820\n",
      "sub_grade                     0.009378\n",
      "emp_length                    0.007458\n",
      "home_ownership                0.007472\n",
      "annual_inc                    0.007404\n",
      "verification_status           0.002522\n",
      "issue_d                       0.002901\n",
      "purpose                       0.004592\n",
      "addr_state                    0.003691\n",
      "dti                           0.000634\n",
      "delinq_2yrs                   0.003434\n",
      "inq_last_6mths                0.000611\n",
      "open_acc                      0.002459\n",
      "pub_rec                       0.000006\n",
      "revol_bal                     0.007061\n",
      "total_acc                     0.004920\n",
      "initial_list_status           0.001424\n",
      "total_pymnt                   0.017189\n",
      "total_rec_prncp               0.024174\n",
      "total_rec_int                 0.003466\n",
      "total_rec_late_fee            0.002540\n",
      "recoveries                    0.031165\n",
      "collection_recovery_fee       0.028410\n",
      "last_pymnt_amnt               0.019036\n",
      "collections_12_mths_ex_med    0.004157\n",
      "acc_now_delinq                0.000392\n",
      "acc_open_past_24mths          0.003466\n",
      "bc_open_to_buy                0.002944\n",
      "bc_util                       0.001857\n",
      "chargeoff_within_12_mths      0.001294\n",
      "mort_acc                      0.008190\n",
      "mths_since_recent_bc          0.000313\n",
      "num_bc_sats                   0.000749\n",
      "num_sats                      0.002332\n",
      "percent_bc_gt_75              0.002178\n",
      "pub_rec_bankruptcies          0.002139\n",
      "tax_liens                     0.001302\n",
      "total_bal_ex_mort             0.007772\n",
      "total_bc_limit                0.005695\n",
      "loan_status                   1.000000\n",
      "Name: loan_status, dtype: float64\n"
     ]
    }
   ],
   "source": [
    "cor = data_clean.corr()\n",
    "cor_target = abs(cor['loan_status'])\n",
    "relevant_features = cor_target[cor_target>0.05]\n",
    "print(cor_target)"
   ]
  },
  {
   "cell_type": "code",
   "execution_count": 12,
   "metadata": {},
   "outputs": [
    {
     "name": "stdout",
     "output_type": "stream",
     "text": [
      "          loan_amnt          term      int_rate   installment         grade  \\\n",
      "count  1.881800e+05  1.881800e+05  1.881800e+05  1.881800e+05  1.881800e+05   \n",
      "mean  -5.678905e-17 -6.585113e-17 -5.678905e-16 -7.128838e-17  4.591455e-17   \n",
      "std    1.000003e+00  1.000003e+00  1.000003e+00  1.000003e+00  1.000003e+00   \n",
      "min   -1.645663e+00 -5.547850e-01 -1.865596e+00 -1.808395e+00 -1.364211e+00   \n",
      "25%   -7.830376e-01 -5.547850e-01 -7.072502e-01 -7.160736e-01 -5.876474e-01   \n",
      "50%   -2.685431e-01 -5.547850e-01 -4.244092e-02 -1.876135e-01  1.889166e-01   \n",
      "75%    6.957492e-01 -5.547850e-01  6.742010e-01  5.546128e-01  1.889166e-01   \n",
      "max    2.544233e+00  1.802500e+00  2.655107e+00  3.974459e+00  3.295173e+00   \n",
      "\n",
      "          sub_grade    emp_length  home_ownership    annual_inc  \\\n",
      "count  1.881800e+05  1.881800e+05    1.881800e+05  1.881800e+05   \n",
      "mean   7.249665e-18  3.504005e-17   -6.041388e-17  1.365354e-16   \n",
      "std    1.000003e+00  1.000003e+00    1.000003e+00  1.000003e+00   \n",
      "min   -1.676095e+00 -1.529988e+00   -9.601707e-01 -1.301182e+00   \n",
      "25%   -7.396218e-01 -9.374150e-01   -9.601707e-01 -5.254887e-01   \n",
      "50%   -1.153066e-01  0.000000e+00   -9.601707e-01 -1.974591e-01   \n",
      "75%    5.090087e-01  1.136592e+00    1.110717e+00  2.849373e-01   \n",
      "max    3.630585e+00  1.136592e+00    1.110717e+00  1.364129e+02   \n",
      "\n",
      "       verification_status  ...      mort_acc  mths_since_recent_bc  \\\n",
      "count         1.881800e+05  ...  1.881800e+05          1.881800e+05   \n",
      "mean          7.128838e-17  ...  4.546144e-17         -1.549994e-16   \n",
      "std           1.000003e+00  ...  1.000003e+00          1.000003e+00   \n",
      "min          -1.326449e+00  ... -8.426023e-01         -8.913017e-01   \n",
      "25%          -1.326449e+00  ... -8.426023e-01         -6.481554e-01   \n",
      "50%          -1.747925e-01  ... -3.773410e-01         -3.355387e-01   \n",
      "75%           9.768637e-01  ...  5.531816e-01          1.854890e-01   \n",
      "max           9.768637e-01  ...  1.358050e+01          1.835199e+01   \n",
      "\n",
      "        num_bc_sats      num_sats  percent_bc_gt_75  pub_rec_bankruptcies  \\\n",
      "count  1.881800e+05  1.881800e+05      1.881800e+05          1.881800e+05   \n",
      "mean   9.758729e-17 -1.717642e-16      1.502795e-16          1.812416e-17   \n",
      "std    1.000003e+00  1.000003e+00      1.000003e+00          1.000003e+00   \n",
      "min   -1.962262e+00 -2.507433e+00     -1.607445e+00         -2.921854e-01   \n",
      "25%   -7.005800e-01 -6.978945e-01     -7.490729e-01         -2.921854e-01   \n",
      "50%    0.000000e+00 -1.931752e-02     -6.397655e-16         -2.921854e-01   \n",
      "75%    5.611017e-01  4.330672e-01      7.935950e-01         -2.921854e-01   \n",
      "max    1.275736e+01  1.151649e+01      1.393855e+00          2.727881e+01   \n",
      "\n",
      "          tax_liens  total_bal_ex_mort  total_bc_limit    loan_status  \n",
      "count  1.881800e+05       1.881800e+05    1.881800e+05  188180.000000  \n",
      "mean   1.691589e-17       2.816797e-17   -1.951651e-16       0.157668  \n",
      "std    1.000003e+00       1.000003e+00    1.000003e+00       0.364431  \n",
      "min   -5.812548e-02      -1.089261e+00   -1.093757e+00       0.000000  \n",
      "25%   -5.812548e-02      -5.948703e-01   -6.560062e-01       0.000000  \n",
      "50%   -5.812548e-02      -2.187683e-01   -2.614898e-01       0.000000  \n",
      "75%   -5.812548e-02       2.461395e-01    2.951567e-01       0.000000  \n",
      "max    2.193653e+02       6.608032e+01    2.712822e+01       1.000000  \n",
      "\n",
      "[8 rows x 44 columns]\n"
     ]
    }
   ],
   "source": [
    "print(data_clean.describe())"
   ]
  },
  {
   "cell_type": "code",
   "execution_count": 28,
   "metadata": {},
   "outputs": [
    {
     "name": "stdout",
     "output_type": "stream",
     "text": [
      "Accuracies from cross validation  [84.69019024 84.59453715 84.10564353 84.93463705 83.74960145 83.66989053\n",
      " 84.90275268 84.64236369 83.73897332 83.2925922 ]\n",
      "False negative rates from cross validation [0.1530981  0.15405463 0.15889042 0.15065363 0.16250399 0.16330109\n",
      " 0.15097247 0.15357636 0.16261027 0.16702094]\n"
     ]
    },
    {
     "data": {
      "image/png": "[encoded data removed]",
      "text/plain": [
       "<Figure size 432x288 with 1 Axes>"
      ]
     },
     "metadata": {
      "needs_background": "light"
     },
     "output_type": "display_data"
    },
    {
     "data": {
      "image/png": "[encoded data removed]",
      "text/plain": [
       "<Figure size 432x288 with 1 Axes>"
      ]
     },
     "metadata": {
      "needs_background": "light"
     },
     "output_type": "display_data"
    }
   ],
   "source": [
    "#Logistic regression using inbuilt class\n",
    "import numpy as np\n",
    "import pandas as pd\n",
    "import keras\n",
    "from matplotlib import pyplot as plt\n",
    "from sklearn.model_selection import train_test_split\n",
    "from sklearn.linear_model import LogisticRegression\n",
    "from sklearn.metrics import accuracy_score, confusion_matrix\n",
    "from sklearn.model_selection import KFold\n",
    "import warnings\n",
    "warnings.filterwarnings(\"ignore\")\n",
    "\n",
    "data = pd.read_csv('loanCleaned.csv')\n",
    "fields = data.columns.values[:-1]\n",
    "X = data[fields].values\n",
    "data['loan_status'] = data['loan_status'].apply(lambda x:int(x))\n",
    "y = data['loan_status'].values\n",
    "lg_wo_pca_scores = []\n",
    "log_wo_pca_fnr = []\n",
    "kf  = KFold(n_splits=10)\n",
    "for train_index, test_index in kf.split(X):\n",
    "    X_train, X_test = X[train_index], X[test_index]\n",
    "    y_train, y_test = y[train_index], y[test_index]\n",
    "    model = LogisticRegression().fit(X_train, y_train)\n",
    "    y_pred = model.predict(X_test)\n",
    "    lg_wo_pca_scores.append(accuracy_score(y_test, y_pred)*100)\n",
    "    tn, fp, fn, tp = confusion_matrix(y_test, y_pred).ravel()\n",
    "    log_wo_pca_fnr.append(fn/len(y_test))\n",
    "\n",
    "LogReg_wo_pca_acc = np.array(lg_wo_pca_scores).mean()\n",
    "LogReg_wo_pca_fnr = np.array(log_wo_pca_fnr).mean()\n",
    "print(\"Accuracies from cross validation \",np.array(lg_wo_pca_scores))\n",
    "print(\"False negative rates from cross validation\", np.array(log_wo_pca_fnr))\n",
    "solvers = ['newton-cg', 'lbfgs', 'liblinear', 'sag', 'saga']\n",
    "scores_solvers = []\n",
    "fnr_solvers = []\n",
    "X_train, X_test, y_train, y_test = train_test_split(X,y, test_size=0.2)\n",
    "\n",
    "for s in solvers:\n",
    "        model = LogisticRegression(solver=s).fit(X_train, y_train)\n",
    "        y_pred = model.predict(X_test)\n",
    "        scores_solvers.append(accuracy_score(y_test, y_pred)*100)\n",
    "        tn, fp, fn, tp = confusion_matrix(y_test, y_pred).ravel()\n",
    "        fnr_solvers.append(fn/len(y_test))\n",
    "plt.scatter(solvers, scores_solvers)\n",
    "plt.xlabel('Different solvers used in logistic regression')\n",
    "plt.ylabel('Accuracy')\n",
    "plt.show()\n",
    "\n",
    "plt.scatter(solvers, fnr_solvers)\n",
    "plt.xlabel('Different solvers used in logistic regression')\n",
    "plt.ylabel('False Negative Rate')\n",
    "plt.show()"
   ]
  },
  {
   "cell_type": "code",
   "execution_count": 11,
   "metadata": {},
   "outputs": [
    {
     "data": {
      "image/png": "[encoded data removed]",
      "text/plain": [
       "<Figure size 432x288 with 1 Axes>"
      ]
     },
     "metadata": {
      "needs_background": "light"
     },
     "output_type": "display_data"
    },
    {
     "data": {
      "image/png": "[encoded data removed]",
      "text/plain": [
       "<Figure size 432x288 with 1 Axes>"
      ]
     },
     "metadata": {
      "needs_background": "light"
     },
     "output_type": "display_data"
    },
    {
     "name": "stdout",
     "output_type": "stream",
     "text": [
      "[76.02295674 78.28143267 79.12105431 79.95536189 79.54617919 80.05632905\n",
      " 81.26793496 77.95196089 75.1833351  72.47316399]\n",
      "[0.14023806993304283, 0.14124774152407268, 0.14650866191943884, 0.13901583590179614, 0.1523541290254012, 0.15432033159740674, 0.14390477202678287, 0.13752789882027847, 0.14215113189499415, 0.14007864810288023]\n"
     ]
    }
   ],
   "source": [
    "#Implementation of logistic regression\n",
    "import math\n",
    "import numpy as np\n",
    "import pandas as pd\n",
    "import keras\n",
    "from tqdm import tqdm\n",
    "from sklearn.model_selection import train_test_split\n",
    "from sklearn.linear_model import LogisticRegression\n",
    "from sklearn.metrics import accuracy_score\n",
    "from sklearn.model_selection import KFold\n",
    "from numpy import vstack\n",
    "data = pd.read_csv('loanCleaned.csv')\n",
    "fields = data.columns.values[:-1]\n",
    "X = data[fields].values\n",
    "data['loan_status'] = data['loan_status'].apply(lambda x:int(x))\n",
    "y = data['loan_status'].values\n",
    "lg_m_wo_pca_scores = []\n",
    "\n",
    "def sigmoid(z):\n",
    "    temp = 1 + (np.exp(-z))\n",
    "    return 1/temp\n",
    "def hypothesis(theta, x):\n",
    "    \n",
    "    if(sigmoid(np.dot(theta,x))<0.5):\n",
    "        return 0\n",
    "    else:\n",
    "        return 1\n",
    "def cost(theta, X, y):\n",
    "    c = 0\n",
    "    for i in range(len(X)):\n",
    "        temp = hypothesis(theta, X[i])\n",
    "        c = c + (-y[i]* np.log(temp) - (1-y[i])*np.log(1-temp)) \n",
    "    return c/len(X)\n",
    "def gradient(x,theta,y):\n",
    "    h = []\n",
    "    for i in x:\n",
    "        h.append(hypothesis(theta,i))\n",
    "    h = np.array(h)\n",
    "    error = np.dot(x.T, (h-y))/y.shape[0]\n",
    "    return np.array(error)\n",
    "def gradient_descent(X,y,theta, alpha):\n",
    "    num_iter = 250\n",
    "    for i in range(num_iter):\n",
    "        e = gradient(X,theta,y)\n",
    "        theta = theta - alpha * e\n",
    "    return theta, num_iter\n",
    "def predict(theta, X):\n",
    "    h = []\n",
    "    temp = np.ones(len(X)).reshape(len(X),1)\n",
    "    X = vstack((temp.T,X.T)).T\n",
    "    for i in X:\n",
    "        h.append(hypothesis(theta,i))\n",
    "    h = np.array(h)\n",
    "    return h\n",
    "def logistic_reg(X, y, X_test,alpha=0.1):\n",
    "    temp = np.ones(len(X)).reshape(len(X),1)\n",
    "    X = vstack((temp.T,X.T)).T\n",
    "    theta = np.ones(X.shape[1])\n",
    "    theta, num_iter = gradient_descent(X,y,theta,alpha)\n",
    "    y_pred = predict(theta,X_test)\n",
    "    return theta,y_pred\n",
    "a_scores = []\n",
    "a_fnr = []\n",
    "alphas = [0.1,0.001, 0.0001, 0.5,0.05,0.005, 1]\n",
    "X_train, X_test, y_train, y_test = train_test_split(X,y, test_size=0.2)\n",
    "\n",
    "for alpha in alphas:\n",
    "    theta, y_pred = logistic_reg(X_train,y_train, X_test,alpha)\n",
    "    a_scores.append(accuracy_score(y_test, y_pred))\n",
    "    tn, fp, fn, tp = confusion_matrix(y_test, y_pred).ravel()\n",
    "    a_fnr.append(fn/len(y_test))\n",
    "\n",
    "plt.scatter(alphas, a_scores)\n",
    "plt.xlabel(\"Alpha values\")\n",
    "plt.ylabel(\"Accuracy \")\n",
    "plt.show()\n",
    "plt.scatter(alphas, a_fnr)\n",
    "plt.xlabel(\"Alpha values\")\n",
    "plt.ylabel(\"False negative rates\")\n",
    "plt.show()\n",
    "\n",
    "fnr_scores = []\n",
    "kf  = KFold(n_splits=10)\n",
    "for train_index, test_index in kf.split(X):\n",
    "    X_train, X_test = X[train_index], X[test_index]\n",
    "    y_train, y_test = y[train_index], y[test_index]\n",
    "    theta, y_pred = logistic_reg(X_train, y_train, X_test)\n",
    "    lg_m_wo_pca_scores.append(accuracy_score(y_test, y_pred))\n",
    "    tn, fp, fn, tp = confusion_matrix(y_test, y_pred).ravel()\n",
    "    fnr_scores.append(fn/len(y_test))\n",
    "print(np.array(lg_m_wo_pca_scores)*100)\n",
    "print(fnr_scores)\n",
    "LogReg_m_wo_pca_acc = (np.array(lg_m_wo_pca_scores)*100).mean()\n",
    "LogReg_m_wo_pca_fnr = np.array(fnr_scores).mean()"
   ]
  },
  {
   "cell_type": "code",
   "execution_count": 16,
   "metadata": {},
   "outputs": [
    {
     "name": "stdout",
     "output_type": "stream",
     "text": [
      "Accuracies from ANN [84.68487618 84.59453715 84.08970135 84.92400893 83.7283452  83.65926241\n",
      " 84.87618238 84.64236369 83.73897332 83.29790626]\n",
      "False negative rates [0.15293868 0.15405463 0.15883728 0.15065363 0.16250399 0.16330109\n",
      " 0.15091933 0.15357636 0.16261027 0.16702094]\n"
     ]
    }
   ],
   "source": [
    "#ANN implementation\n",
    "\n",
    "import numpy as np\n",
    "import pandas as pd\n",
    "import keras\n",
    "from sklearn.model_selection import train_test_split\n",
    "from sklearn.linear_model import LogisticRegression\n",
    "from sklearn.metrics import accuracy_score\n",
    "from sklearn.model_selection import KFold\n",
    "from keras.utils import to_categorical\n",
    "import warnings\n",
    "warnings.filterwarnings(\"ignore\")\n",
    "data = pd.read_csv('loanCleaned.csv')\n",
    "fields = data.columns.values[:-1]\n",
    "X = data[fields].values\n",
    "data['loan_status'] = data['loan_status'].apply(lambda x:int(x))\n",
    "y = data['loan_status'].values\n",
    "ANN_wo_pca_scores = []\n",
    "fnr_val = []\n",
    "kf  = KFold(n_splits=10)\n",
    "for train_index, test_index in kf.split(X):\n",
    "    X_train, X_test = X[train_index], X[test_index]\n",
    "    y_train, y_test = y[train_index], y[test_index]\n",
    "    y_train = to_categorical(y_train)\n",
    "    y_test = to_categorical(y_test)\n",
    "    model = keras.Sequential([\n",
    "        keras.layers.Dense(43, input_shape=(43,),activation='relu'),\n",
    "        keras.layers.Dense(23, activation='relu'),\n",
    "        keras.layers.Dense(2,activation='softmax')\n",
    "        ])\n",
    "    model.compile(optimizer='sgd',\n",
    "              loss='categorical_crossentropy',\n",
    "              metrics=['accuracy'])\n",
    "    \n",
    "    model.fit(X_train, y_train, epochs=30, batch_size=10000, verbose=0)\n",
    "    y_pred = model.predict(X_test)\n",
    "    score = accuracy_score(np.argmax(y_test,axis=1), np.argmax(y_pred,axis=1))*100\n",
    "    tn, fp, fn, tp = confusion_matrix(np.argmax(y_test,axis=1), np.argmax(y_pred,axis=1)).ravel()\n",
    "    ANN_wo_pca_scores.append(score)\n",
    "    fnr_val.append(fn/len(y_test))\n",
    "print(\"Accuracies from ANN\",np.array(ANN_wo_pca_scores))\n",
    "print(\"False negative rates\", np.array(fnr_val))\n",
    "ANN_wo_pca_acc = np.array(ANN_wo_pca_scores).mean()\n",
    "ANN_wo_pca_fnr = np.array(fnr_val).mean()"
   ]
  },
  {
   "cell_type": "code",
   "execution_count": 32,
   "metadata": {},
   "outputs": [
    {
     "name": "stdout",
     "output_type": "stream",
     "text": [
      "Accuracies obtained from cross validation [0.84623049 0.84642976 0.84377283 0.84423779 0.84788096 0.83891325\n",
      " 0.83359904 0.84734954 0.84781453 0.8443603 ]\n",
      "False negative rates  [0.15370309 0.15323813 0.15596147 0.15576221 0.15211904 0.16108675\n",
      " 0.16640096 0.15265046 0.15218547 0.1556397 ]\n"
     ]
    }
   ],
   "source": [
    "from sklearn.svm import LinearSVC\n",
    "data = pd.read_csv('loanCleaned.csv')\n",
    "fields = data.columns.values[:-1]\n",
    "X = data[fields].values\n",
    "data['loan_status'] = data['loan_status'].apply(lambda x:int(x))\n",
    "y = data['loan_status'].values\n",
    "linear_svc_wo_pca_scores = []\n",
    "fnr_val = []\n",
    "kf  = KFold(n_splits=10)\n",
    "for train_index, test_index in kf.split(X_train_test):\n",
    "    X_train, X_test = X[train_index], X[test_index]\n",
    "    y_train, y_test = y[train_index], y[test_index]\n",
    "    svm = LinearSVC()\n",
    "    svm.fit(X_train, y_train)\n",
    "    y_pred = svm.predict(X_test)\n",
    "    tn, fp, fn, tp = confusion_matrix(y_test, y_pred).ravel()\n",
    "    fnr_val.append(fn/len(y_test))\n",
    "    linear_svc_wo_pca_scores.append(accuracy_score(y_test, y_pred))\n",
    "print(\"Accuracies obtained from cross validation\", np.array(linear_svc_wo_pca_scores))\n",
    "print(\"False negative rates \", np.array(fnr_val))\n",
    "linear_svc_wo_pca_acc = np.array(linear_svc_wo_pca_scores).mean()\n",
    "linear_svc_wo_pca_fnr = np.array(fnr_val).mean()"
   ]
  },
  {
   "cell_type": "code",
   "execution_count": 21,
   "metadata": {},
   "outputs": [
    {
     "name": "stdout",
     "output_type": "stream",
     "text": [
      "Accuracies from cross validation  [84.6955043  84.52014029 84.11095759 84.92932299 83.74960145 83.61674992\n",
      " 84.90275268 84.64236369 83.73897332 83.29790626]\n",
      "False negative rates from cross validation  [0.15293868 0.15384207 0.15889042 0.15065363 0.16250399 0.16319481\n",
      " 0.15097247 0.15357636 0.16250399 0.16702094]\n"
     ]
    }
   ],
   "source": [
    "#ANN using PCA\n",
    "from sklearn.decomposition import PCA\n",
    "data = pd.read_csv('loanCleaned.csv')\n",
    "fields = data.columns.values[:-1]\n",
    "X = data[fields].values\n",
    "data['loan_status'] = data['loan_status'].apply(lambda x:int(x))\n",
    "y = data['loan_status'].values\n",
    "pca = PCA(n_components = 15)\n",
    "X_pca = pca.fit_transform(X)\n",
    "X = X_pca\n",
    "ANN_pca_scores = []\n",
    "fnr_val = []\n",
    "\n",
    "kf  = KFold(n_splits=10)\n",
    "for train_index, test_index in kf.split(X):\n",
    "    X_train, X_test = X[train_index], X[test_index]\n",
    "    y_train, y_test = y[train_index], y[test_index]\n",
    "    y_train = to_categorical(y_train)\n",
    "    y_test = to_categorical(y_test)\n",
    "    model = keras.Sequential([\n",
    "        keras.layers.Dense(15, input_shape=(15,),activation='relu'),\n",
    "        keras.layers.Dense(8, activation='relu'),\n",
    "        keras.layers.Dense(2,activation='softmax')\n",
    "        ])\n",
    "    model.compile(optimizer='sgd',\n",
    "              loss='categorical_crossentropy',\n",
    "              metrics=['accuracy'])\n",
    "    \n",
    "    model.fit(X_train, y_train, epochs=30, batch_size=10000, verbose=0)\n",
    "    y_pred = model.predict(X_test)\n",
    "    score = accuracy_score(np.argmax(y_test,axis=1), np.argmax(y_pred,axis=1))*100\n",
    "    tn, fp, fn, tp = confusion_matrix(np.argmax(y_test,axis=1), np.argmax(y_pred,axis=1)).ravel()\n",
    "    fnr_val.append(fn/len(y_test))\n",
    "    ANN_pca_scores.append(score)\n",
    "print(\"Accuracies from cross validation \",np.array(ANN_pca_scores))\n",
    "print(\"False negative rates from cross validation \", np.array(fnr_val))\n",
    "ANN_pca_acc = np.array(ANN_pca_scores).mean()\n",
    "ANN_pca_fnr = np.array(fnr_val).mean()"
   ]
  },
  {
   "cell_type": "code",
   "execution_count": 31,
   "metadata": {},
   "outputs": [
    {
     "name": "stdout",
     "output_type": "stream",
     "text": [
      "Accuracies obtained from cross validation [0.8469019  0.84589223 0.84105644 0.84934637 0.83749601 0.83669891\n",
      " 0.84902753 0.8463705  0.83733659 0.83287278]\n",
      "False negative rates  [0.1530981  0.15405463 0.15889042 0.15060049 0.16250399 0.16330109\n",
      " 0.15097247 0.15357636 0.16261027 0.16702094]\n"
     ]
    }
   ],
   "source": [
    "#Linear svm with PCA\n",
    "from sklearn.svm import LinearSVC\n",
    "data = pd.read_csv('loanCleaned.csv')\n",
    "fields = data.columns.values[:-1]\n",
    "X = data[fields].values\n",
    "data['loan_status'] = data['loan_status'].apply(lambda x:int(x))\n",
    "y = data['loan_status'].values\n",
    "linear_svc_pca_scores = []\n",
    "pca = PCA(n_components = 15)\n",
    "X_pca = pca.fit_transform(X)\n",
    "X = X_pca\n",
    "fnr_val = []\n",
    "\n",
    "kf  = KFold(n_splits=10)\n",
    "for train_index, test_index in kf.split(X):\n",
    "    X_train, X_test = X[train_index], X[test_index]\n",
    "    y_train, y_test = y[train_index], y[test_index]\n",
    "    svm = LinearSVC()\n",
    "    svm.fit(X_train, y_train)\n",
    "    y_pred = svm.predict(X_test)\n",
    "    linear_svc_pca_scores.append(accuracy_score(y_test, y_pred))\n",
    "    tn, fp, fn, tp = confusion_matrix(y_test, y_pred).ravel()\n",
    "    fnr_val.append(fn/len(y_test))\n",
    "print(\"Accuracies obtained from cross validation\", np.array(linear_svc_pca_scores))\n",
    "print(\"False negative rates \", np.array(fnr_val))\n",
    "linear_svc_pca_acc = np.array(linear_svc_pca_scores).mean()\n",
    "linear_svc_pca_fnr = np.array(fnr_val).mean()"
   ]
  },
  {
   "cell_type": "code",
   "execution_count": 37,
   "metadata": {},
   "outputs": [
    {
     "data": {
      "image/png": "[encoded data removed]",
      "text/plain": [
       "<Figure size 432x288 with 1 Axes>"
      ]
     },
     "metadata": {
      "needs_background": "light"
     },
     "output_type": "display_data"
    },
    {
     "data": {
      "image/png": "[encoded data removed]",
      "text/plain": [
       "<Figure size 432x288 with 1 Axes>"
      ]
     },
     "metadata": {
      "needs_background": "light"
     },
     "output_type": "display_data"
    },
    {
     "name": "stdout",
     "output_type": "stream",
     "text": [
      "[51.87586353 84.41917313 59.77787225 63.07790413 76.9422893  64.39579126\n",
      " 83.36698905 84.07907323 69.0509087  61.35083431]\n",
      "[0.07960463386119673, 0.1535763630566479, 0.10096715910298651, 0.10043575300244446, 0.14560527154851738, 0.11579338930810926, 0.14874056754171538, 0.1523541290254012, 0.12976936975236475, 0.10920395366138803]\n"
     ]
    }
   ],
   "source": [
    "#Implementation of logistic regression with PCA\n",
    "import math\n",
    "import numpy as np\n",
    "import pandas as pd\n",
    "import keras\n",
    "from tqdm import tqdm\n",
    "from sklearn.model_selection import train_test_split\n",
    "from sklearn.linear_model import LogisticRegression\n",
    "from sklearn.metrics import accuracy_score\n",
    "from sklearn.model_selection import KFold\n",
    "from numpy import vstack\n",
    "data = pd.read_csv('loanCleaned.csv')\n",
    "fields = data.columns.values[:-1]\n",
    "X = data[fields].values\n",
    "data['loan_status'] = data['loan_status'].apply(lambda x:int(x))\n",
    "y = data['loan_status'].values\n",
    "lg_m_pca_scores = []\n",
    "pca = PCA(n_components = 15)\n",
    "X_pca = pca.fit_transform(X)\n",
    "X = X_pca\n",
    "def sigmoid(z):\n",
    "    temp = 1 + (np.exp(-z))\n",
    "    return 1/temp\n",
    "def hypothesis(theta, x):\n",
    "    \n",
    "    if(sigmoid(np.dot(theta,x))<0.5):\n",
    "        return 0\n",
    "    else:\n",
    "        return 1\n",
    "def cost(theta, X, y):\n",
    "    c = 0\n",
    "    for i in range(len(X)):\n",
    "        temp = hypothesis(theta, X[i])\n",
    "        c = c + (-y[i]* np.log(temp) - (1-y[i])*np.log(1-temp)) \n",
    "    return c/len(X)\n",
    "def gradient(x,theta,y):\n",
    "    h = []\n",
    "    for i in x:\n",
    "        h.append(hypothesis(theta,i))\n",
    "    h = np.array(h)\n",
    "    error = np.dot(x.T, (h-y))/y.shape[0]\n",
    "    return np.array(error)\n",
    "def gradient_descent(X,y,theta, alpha):\n",
    "    num_iter = 350\n",
    "    for i in range(num_iter):\n",
    "        e = gradient(X,theta,y)\n",
    "        theta = theta - alpha * e\n",
    "    return theta, num_iter\n",
    "def predict(theta, X):\n",
    "    h = []\n",
    "    temp = np.ones(len(X)).reshape(len(X),1)\n",
    "    X = vstack((temp.T,X.T)).T\n",
    "    for i in X:\n",
    "        h.append(hypothesis(theta,i))\n",
    "    h = np.array(h)\n",
    "    return h\n",
    "def logistic_reg(X, y, X_test,alpha=0.1):\n",
    "    temp = np.ones(len(X)).reshape(len(X),1)\n",
    "    X = vstack((temp.T,X.T)).T\n",
    "    theta = np.ones(X.shape[1])\n",
    "    theta, num_iter = gradient_descent(X,y,theta,alpha)\n",
    "    y_pred = predict(theta,X_test)\n",
    "    return theta,y_pred\n",
    "a_scores = []\n",
    "a_fnr = []\n",
    "alphas = [0.1,0.001, 0.0001, 0.5,0.05,0.005, 1]\n",
    "X_train, X_test, y_train, y_test = train_test_split(X,y, test_size=0.2)\n",
    "\n",
    "for alpha in alphas:\n",
    "    theta, y_pred = logistic_reg(X_train,y_train, X_test,alpha)\n",
    "    a_scores.append(accuracy_score(y_test, y_pred))\n",
    "    tn, fp, fn, tp = confusion_matrix(y_test, y_pred).ravel()\n",
    "    a_fnr.append(fn/len(y_test))\n",
    "\n",
    "plt.scatter(alphas, a_scores)\n",
    "plt.xlabel(\"Alpha values\")\n",
    "plt.ylabel(\"Accuracy \")\n",
    "plt.show()\n",
    "plt.scatter(alphas, a_fnr)\n",
    "plt.xlabel(\"Alpha values\")\n",
    "plt.ylabel(\"False negative rates\")\n",
    "plt.show()\n",
    "\n",
    "fnr_scores = []\n",
    "kf  = KFold(n_splits=10)\n",
    "for train_index, test_index in kf.split(X):\n",
    "    X_train, X_test = X[train_index], X[test_index]\n",
    "    y_train, y_test = y[train_index], y[test_index]\n",
    "    theta, y_pred = logistic_reg(X_train, y_train, X_test)\n",
    "    lg_m_pca_scores.append(accuracy_score(y_test, y_pred))\n",
    "    tn, fp, fn, tp = confusion_matrix(y_test, y_pred).ravel()\n",
    "    fnr_scores.append(fn/len(y_test))\n",
    "print(np.array(lg_m_pca_scores)*100)\n",
    "print(fnr_scores)\n",
    "LogReg_m_pca_acc = (np.array(lg_m_pca_scores)*100).mean()\n",
    "LogReg_m_pca_fnr = np.array(fnr_scores).mean()\n"
   ]
  },
  {
   "cell_type": "code",
   "execution_count": 27,
   "metadata": {},
   "outputs": [
    {
     "name": "stdout",
     "output_type": "stream",
     "text": [
      "Accuracies from cross validation  [84.69019024 84.57859496 84.09501541 84.92400893 83.73897332 83.66457647\n",
      " 84.90275268 84.63704963 83.73365926 83.28727814]\n",
      "False negative rates from cross validation [0.1530981  0.15405463 0.15889042 0.15060049 0.16245084 0.16330109\n",
      " 0.15097247 0.15357636 0.16261027 0.16702094]\n"
     ]
    },
    {
     "data": {
      "image/png": "[encoded data removed]",
      "text/plain": [
       "<Figure size 432x288 with 1 Axes>"
      ]
     },
     "metadata": {
      "needs_background": "light"
     },
     "output_type": "display_data"
    },
    {
     "data": {
      "image/png": "[encoded data removed]",
      "text/plain": [
       "<Figure size 432x288 with 1 Axes>"
      ]
     },
     "metadata": {
      "needs_background": "light"
     },
     "output_type": "display_data"
    }
   ],
   "source": [
    "#Logistic regression using inbuilt class with PCA\n",
    "import numpy as np\n",
    "import pandas as pd\n",
    "import keras\n",
    "from matplotlib import pyplot as plt\n",
    "from sklearn.model_selection import train_test_split\n",
    "from sklearn.linear_model import LogisticRegression\n",
    "from sklearn.metrics import accuracy_score, confusion_matrix\n",
    "from sklearn.model_selection import KFold\n",
    "from sklearn.decomposition import PCA\n",
    "import warnings\n",
    "warnings.filterwarnings(\"ignore\")\n",
    "\n",
    "data = pd.read_csv('loanCleaned.csv')\n",
    "fields = data.columns.values[:-1]\n",
    "X = data[fields].values\n",
    "data['loan_status'] = data['loan_status'].apply(lambda x:int(x))\n",
    "y = data['loan_status'].values\n",
    "lg_wo_pca_scores = []\n",
    "log_wo_pca_fnr = []\n",
    "kf  = KFold(n_splits=10)\n",
    "pca = PCA(n_components = 15)\n",
    "X_pca = pca.fit_transform(X)\n",
    "X = X_pca\n",
    "for train_index, test_index in kf.split(X):\n",
    "    X_train, X_test = X[train_index], X[test_index]\n",
    "    y_train, y_test = y[train_index], y[test_index]\n",
    "    model = LogisticRegression().fit(X_train, y_train)\n",
    "    y_pred = model.predict(X_test)\n",
    "    lg_wo_pca_scores.append(accuracy_score(y_test, y_pred)*100)\n",
    "    tn, fp, fn, tp = confusion_matrix(y_test, y_pred).ravel()\n",
    "    log_wo_pca_fnr.append(fn/len(y_test))\n",
    "\n",
    "LogReg_pca_acc = np.array(lg_wo_pca_scores).mean()\n",
    "LogReg_pca_fnr = np.array(log_wo_pca_fnr).mean()\n",
    "print(\"Accuracies from cross validation \",np.array(lg_wo_pca_scores))\n",
    "print(\"False negative rates from cross validation\", np.array(log_wo_pca_fnr))\n",
    "solvers = ['newton-cg', 'lbfgs', 'liblinear', 'sag', 'saga']\n",
    "scores_solvers = []\n",
    "fnr_solvers = []\n",
    "X_train, X_test, y_train, y_test = train_test_split(X,y, test_size=0.2)\n",
    "\n",
    "for s in solvers:\n",
    "        model = LogisticRegression(solver=s).fit(X_train, y_train)\n",
    "        y_pred = model.predict(X_test)\n",
    "        scores_solvers.append(accuracy_score(y_test, y_pred)*100)\n",
    "        tn, fp, fn, tp = confusion_matrix(y_test, y_pred).ravel()\n",
    "        fnr_solvers.append(fn/len(y_test))\n",
    "plt.scatter(solvers, scores_solvers)\n",
    "plt.xlabel('Different solvers used in logistic regression')\n",
    "plt.ylabel('Accuracy')\n",
    "plt.show()\n",
    "\n",
    "plt.scatter(solvers, fnr_solvers)\n",
    "plt.xlabel('Different solvers used in logistic regression')\n",
    "plt.ylabel('False Negative Rate')\n",
    "plt.show()"
   ]
  },
  {
   "cell_type": "code",
   "execution_count": 38,
   "metadata": {},
   "outputs": [
    {
     "data": {
      "text/plain": [
       "<function matplotlib.pyplot.show(*args, **kw)>"
      ]
     },
     "execution_count": 38,
     "metadata": {},
     "output_type": "execute_result"
    },
    {
     "data": {
      "image/png": "[encoded data removed]",
      "text/plain": [
       "<Figure size 1296x360 with 1 Axes>"
      ]
     },
     "metadata": {
      "needs_background": "light"
     },
     "output_type": "display_data"
    },
    {
     "data": {
      "image/png": "[encoded data removed]",
      "text/plain": [
       "<Figure size 1296x360 with 1 Axes>"
      ]
     },
     "metadata": {
      "needs_background": "light"
     },
     "output_type": "display_data"
    }
   ],
   "source": [
    "acc = [LogReg_wo_pca_acc, LogReg_pca_acc, LogReg_m_wo_pca_acc, LogReg_m_pca_acc, ANN_wo_pca_acc, ANN_pca_acc, linear_svc_wo_pca_acc*100,linear_svc_pca_acc*100]\n",
    "fnr = [LogReg_wo_pca_fnr, LogReg_pca_fnr, LogReg_m_wo_pca_fnr, LogReg_m_pca_fnr, ANN_wo_pca_fnr, ANN_pca_fnr, linear_svc_wo_pca_fnr,linear_svc_pca_fnr]\n",
    "algos = [\"LogReg w/o pca\", \"LogReg pca\", \"LogReg manual w/o pca\", \"LogReg manual pca\", \"ANN w/o pca\", \"ANN pca\", \"SVM w/o pca\", \"SVM pca\"]\n",
    "plt.figure(figsize=(18,5))\n",
    "plt.title(\"Accuracy vs Algorithm\")\n",
    "plt.bar(algos, acc)\n",
    "plt.xlabel(\"Algorithms\")\n",
    "plt.ylabel(\"Average Accuracies\")\n",
    "plt.show\n",
    "\n",
    "plt.figure(figsize=(18,5))\n",
    "plt.title(\"False negative rate vs Algorithms\")\n",
    "plt.bar(algos, fnr)\n",
    "plt.xlabel(\"Algorithms\")\n",
    "plt.ylabel(\"Average False negative rates\")\n",
    "plt.show"
   ]
  },
  {
   "cell_type": "code",
   "execution_count": 39,
   "metadata": {},
   "outputs": [
    {
     "name": "stdout",
     "output_type": "stream",
     "text": [
      "Accuracies from cross validation [59.02327559 59.26772239 59.32617706 60.25613774 60.42618769 58.84259751\n",
      " 58.12519928 60.47401424 65.43734722 66.3938782 ]\n",
      "False negative rates [0.0961845  0.0543097  0.09953236 0.10059517 0.0557445  0.05829525\n",
      " 0.09453715 0.05213094 0.04075885 0.12387076]\n"
     ]
    }
   ],
   "source": [
    "import pandas as pd\n",
    "import numpy as np\n",
    "from sklearn.metrics import accuracy_score, confusion_matrix\n",
    "from sklearn.model_selection import KFold\n",
    "from sklearn.model_selection import train_test_split\n",
    "from sklearn.cluster import KMeans\n",
    "\n",
    "def convert(y):\n",
    "    a =[]\n",
    "    for i in y:\n",
    "        a.append(1-i)\n",
    "    return np.array(a)    \n",
    "\n",
    "data = pd.read_csv('loanCleaned.csv')\n",
    "fields = data.columns.values[:-1]\n",
    "X = data[fields].values\n",
    "data['loan_status'] = data['loan_status'].apply(lambda x:int(x))\n",
    "y = data['loan_status'].values\n",
    "kmeans_scores = []\n",
    "kmeans_fnr = []\n",
    "kf  = KFold(n_splits=10)\n",
    "for train_index, test_index in kf.split(X):\n",
    "    X_train, X_test = X[train_index], X[test_index]\n",
    "    y_train, y_test = y[train_index], y[test_index]\n",
    "    s = X[0]\n",
    "    kmeans = KMeans(n_clusters=2, precompute_distances='auto').fit(X_train)\n",
    "    pred = kmeans.predict(s.reshape(1,-1))\n",
    "    y_pred = kmeans.predict(X_test)\n",
    "    if(pred==0):\n",
    "        score = accuracy_score(y_test, y_pred)\n",
    "        kmeans_scores.append(score*100)\n",
    "        tn, fp, fn, tp = confusion_matrix(y_test, y_pred).ravel()\n",
    "        kmeans_fnr.append(fn/len(y_test))\n",
    "    else:\n",
    "        temp = convert(y_test)\n",
    "        score = accuracy_score(temp, y_pred)\n",
    "        kmeans_scores.append(score*100)\n",
    "        tn, fp, fn, tp = confusion_matrix(y_test, y_pred).ravel()\n",
    "        kmeans_fnr.append(fn/len(y_test))\n",
    "\n",
    "print(\"Accuracies from cross validation\",np.array(kmeans_scores))\n",
    "print(\"False negative rates\",np.array(kmeans_fnr))\n",
    "kmeans_wo_pca_acc = np.array(kmeans_scores).mean()\n",
    "kmeans_wo_pca_fnr = np.array(kmeans_fnr).mean()"
   ]
  },
  {
   "cell_type": "code",
   "execution_count": 40,
   "metadata": {},
   "outputs": [
    {
     "name": "stdout",
     "output_type": "stream",
     "text": [
      "Accuracies from cross validation [58.33244766 57.55128069 55.21840791 61.97257945 62.15325752 61.95663726\n",
      " 61.27112339 62.45084494 67.44074822 69.11467744]\n",
      "False negative rates [0.05314061 0.09623764 0.09012647 0.04596663 0.11170156 0.11255181\n",
      " 0.04931449 0.10553725 0.12689978 0.03661388]\n"
     ]
    }
   ],
   "source": [
    "import pandas as pd\n",
    "import numpy as np\n",
    "from sklearn.metrics import accuracy_score\n",
    "from sklearn.model_selection import KFold\n",
    "from sklearn.model_selection import train_test_split\n",
    "from sklearn.cluster import MiniBatchKMeans\n",
    "def convert(y):\n",
    "    a =[]\n",
    "    for i in y:\n",
    "        a.append(1-i)\n",
    "    return np.array(a)    \n",
    "\n",
    "data = pd.read_csv('loanCleaned.csv')\n",
    "fields = data.columns.values[:-1]\n",
    "X = data[fields].values\n",
    "data['loan_status'] = data['loan_status'].apply(lambda x:int(x))\n",
    "y = data['loan_status'].values\n",
    "mbkm_scores = []\n",
    "mbkm_fnr = []\n",
    "kf  = KFold(n_splits=10)\n",
    "for train_index, test_index in kf.split(X):\n",
    "    X_train, X_test = X[train_index], X[test_index]\n",
    "    y_train, y_test = y[train_index], y[test_index]\n",
    "    s = X[0]\n",
    "    mbkm = MiniBatchKMeans(n_clusters=2).fit(X_train)\n",
    "    pred = mbkm.predict(s.reshape(1,-1))\n",
    "    y_pred = mbkm.predict(X_test)\n",
    "    if(pred==0):\n",
    "        score = accuracy_score(y_test, y_pred)\n",
    "        mbkm_scores.append(score*100)\n",
    "        tn, fp, fn, tp = confusion_matrix(y_test, y_pred).ravel()\n",
    "        mbkm_fnr.append(fn/len(y_test))\n",
    "    else:\n",
    "        temp = convert(y_test)\n",
    "        score = accuracy_score(temp, y_pred)\n",
    "        mbkm_scores.append(score*100)\n",
    "        tn, fp, fn, tp = confusion_matrix(y_test, y_pred).ravel()\n",
    "        mbkm_fnr.append(fn/len(y_test))\n",
    "print(\"Accuracies from cross validation\",np.array(mbkm_scores))\n",
    "print(\"False negative rates\",np.array(mbkm_fnr))\n",
    "\n",
    "mbkm_wo_pca_acc = np.array(mbkm_scores).mean()\n",
    "mbkm_wo_pca_fnr = np.array(mbkm_fnr).mean()"
   ]
  },
  {
   "cell_type": "code",
   "execution_count": 41,
   "metadata": {},
   "outputs": [
    {
     "name": "stdout",
     "output_type": "stream",
     "text": [
      "Accuracies from cross validation [59.00201934 59.40588798 59.38463174 60.43681581 60.44212988 58.82134127\n",
      " 58.27930705 60.48464236 65.49048783 66.49484536]\n",
      "False negative rates [0.09671591 0.05399086 0.09979807 0.1007546  0.05553194 0.05824211\n",
      " 0.09474971 0.05213094 0.04054629 0.12418961]\n"
     ]
    }
   ],
   "source": [
    "import pandas as pd\n",
    "import numpy as np\n",
    "from sklearn.metrics import accuracy_score\n",
    "from sklearn.model_selection import KFold\n",
    "from sklearn.model_selection import train_test_split\n",
    "from sklearn.cluster import KMeans\n",
    "from sklearn.decomposition import PCA\n",
    "def convert(y):\n",
    "    a =[]\n",
    "    for i in y:\n",
    "        a.append(1-i)\n",
    "    return np.array(a)    \n",
    "\n",
    "data = pd.read_csv('loanCleaned.csv')\n",
    "fields = data.columns.values[:-1]\n",
    "X = data[fields].values\n",
    "data['loan_status'] = data['loan_status'].apply(lambda x:int(x))\n",
    "y = data['loan_status'].values\n",
    "kmeans_scores = []\n",
    "kmeans_fnr = []\n",
    "pca = PCA(n_components = 15)\n",
    "X_pca = pca.fit_transform(X)\n",
    "kf  = KFold(n_splits=10)\n",
    "for train_index, test_index in kf.split(X_pca):\n",
    "    X_train, X_test = X_pca[train_index], X_pca[test_index]\n",
    "    y_train, y_test = y[train_index], y[test_index]\n",
    "    s = X_pca[0]\n",
    "    kmeans = KMeans(n_clusters=2, precompute_distances='auto').fit(X_train)\n",
    "    pred = kmeans.predict(s.reshape(1,-1))\n",
    "    y_pred = kmeans.predict(X_test)\n",
    "    if(pred==0):\n",
    "        score = accuracy_score(y_test, y_pred)\n",
    "        kmeans_scores.append(score*100)\n",
    "        tn, fp, fn, tp = confusion_matrix(y_test, y_pred).ravel()\n",
    "        kmeans_fnr.append(fn/len(y_test))\n",
    "    else:\n",
    "        temp = convert(y_test)\n",
    "        score = accuracy_score(temp, y_pred)\n",
    "        kmeans_scores.append(score*100)\n",
    "        tn, fp, fn, tp = confusion_matrix(y_test, y_pred).ravel()\n",
    "        kmeans_fnr.append(fn/len(y_test))\n",
    "print(\"Accuracies from cross validation\",np.array(kmeans_scores))\n",
    "print(\"False negative rates\",np.array(kmeans_fnr))\n",
    "kmeans_pca_acc = np.array(kmeans_scores).mean()\n",
    "kmeans_pca_fnr = np.array(kmeans_fnr).mean()"
   ]
  },
  {
   "cell_type": "code",
   "execution_count": 42,
   "metadata": {},
   "outputs": [
    {
     "name": "stdout",
     "output_type": "stream",
     "text": [
      "Accuracies from cross validation [52.69954299 58.00297587 60.21893931 61.26580933 60.98947816 63.13635881\n",
      " 59.16144117 59.0764162  69.6513976  68.3972792 ]\n",
      "False negative rates [0.06669147 0.05654161 0.10197683 0.10218939 0.05409714 0.1146243\n",
      " 0.05415028 0.10006377 0.1309916  0.128494  ]\n"
     ]
    }
   ],
   "source": [
    "import pandas as pd\n",
    "import numpy as np\n",
    "from sklearn.metrics import accuracy_score\n",
    "from sklearn.model_selection import KFold\n",
    "from sklearn.model_selection import train_test_split\n",
    "from sklearn.cluster import MiniBatchKMeans\n",
    "def convert(y):\n",
    "    a =[]\n",
    "    for i in y:\n",
    "        a.append(1-i)\n",
    "    return np.array(a)    \n",
    "\n",
    "data = pd.read_csv('loanCleaned.csv')\n",
    "fields = data.columns.values[:-1]\n",
    "X = data[fields].values\n",
    "data['loan_status'] = data['loan_status'].apply(lambda x:int(x))\n",
    "y = data['loan_status'].values\n",
    "mbkm_scores = []\n",
    "mbkm_fnr = []\n",
    "pca = PCA(n_components = 15)\n",
    "X_pca = pca.fit_transform(X)\n",
    "kf  = KFold(n_splits=10)\n",
    "for train_index, test_index in kf.split(X_pca):\n",
    "    X_train, X_test = X_pca[train_index], X_pca[test_index]\n",
    "    y_train, y_test = y[train_index], y[test_index]\n",
    "    s = X_pca[0]\n",
    "    mbkm = MiniBatchKMeans(n_clusters=2).fit(X_train)\n",
    "    pred = mbkm.predict(s.reshape(1,-1))\n",
    "    y_pred = mbkm.predict(X_test)\n",
    "    if(pred==0):\n",
    "        score = accuracy_score(y_test, y_pred)\n",
    "        mbkm_scores.append(score*100)\n",
    "        tn, fp, fn, tp = confusion_matrix(y_test, y_pred).ravel()\n",
    "        mbkm_fnr.append(fn/len(y_test))\n",
    "    else:\n",
    "        temp = convert(y_test)\n",
    "        score = accuracy_score(temp, y_pred)\n",
    "        mbkm_scores.append(score*100)\n",
    "        tn, fp, fn, tp = confusion_matrix(y_test, y_pred).ravel()\n",
    "        mbkm_fnr.append(fn/len(y_test))\n",
    "print(\"Accuracies from cross validation\",np.array(mbkm_scores))\n",
    "print(\"False negative rates\",np.array(mbkm_fnr))\n",
    "\n",
    "mbkm_pca_acc = np.array(mbkm_scores).mean()\n",
    "mbkm_pca_fnr = np.array(mbkm_fnr).mean()"
   ]
  },
  {
   "cell_type": "code",
   "execution_count": 43,
   "metadata": {
    "scrolled": false
   },
   "outputs": [
    {
     "data": {
      "image/png": "[encoded data removed]",
      "text/plain": [
       "<Figure size 720x360 with 1 Axes>"
      ]
     },
     "metadata": {
      "needs_background": "light"
     },
     "output_type": "display_data"
    },
    {
     "data": {
      "image/png": "[encoded data removed]",
      "text/plain": [
       "<Figure size 720x360 with 1 Axes>"
      ]
     },
     "metadata": {
      "needs_background": "light"
     },
     "output_type": "display_data"
    }
   ],
   "source": [
    "from matplotlib import pyplot as plt\n",
    "algos = [\"kmeans\", \"mini batch kmeans\", \"kmeans with pca\", \"mini batch kmeans with pca\"]\n",
    "acc = [kmeans_wo_pca_acc, mbkm_wo_pca_acc, kmeans_pca_acc, mbkm_pca_acc]\n",
    "fnr = [kmeans_wo_pca_fnr, mbkm_wo_pca_fnr, kmeans_pca_fnr,  mbkm_pca_fnr]\n",
    "\n",
    "plt.figure(figsize=(10,5))\n",
    "plt.scatter(algos, acc)\n",
    "plt.xlabel(\"Algorithms\")\n",
    "plt.ylabel(\"Average accuracies\")\n",
    "plt.show()\n",
    "\n",
    "plt.figure(figsize=(10,5))\n",
    "plt.scatter(algos, acc)\n",
    "plt.xlabel(\"Algorithms\")\n",
    "plt.ylabel(\"Average false negative rate\")\n",
    "plt.show()"
   ]
  },
  {
   "cell_type": "code",
   "execution_count": null,
   "metadata": {},
   "outputs": [],
   "source": []
  },
  {
   "cell_type": "code",
   "execution_count": null,
   "metadata": {},
   "outputs": [],
   "source": []
  }
 ],
 "metadata": {
  "kernelspec": {
   "display_name": "Python 3",
   "language": "python",
   "name": "python3"
  },
  "language_info": {
   "codemirror_mode": {
    "name": "ipython",
    "version": 3
   },
   "file_extension": ".py",
   "mimetype": "text/x-python",
   "name": "python",
   "nbconvert_exporter": "python",
   "pygments_lexer": "ipython3",
   "version": "3.7.3"
  }
 },
 "nbformat": 4,
 "nbformat_minor": 2
}
