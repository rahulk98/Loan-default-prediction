{
 "cells": [
  {
   "cell_type": "code",
   "execution_count": null,
   "metadata": {},
   "outputs": [],
   "source": [
    "import pandas as pd\n",
    "data = pd.read_csv(\"data.csv\")\n",
    "print(data.corr())\n",
    "data = data.dropna(thresh = len(data)*9.5/10,axis=1)\n",
    "data.fillna(data.mean(),inplace = True)\n",
    "print(data.shape)"
   ]
  },
  {
   "cell_type": "code",
   "execution_count": 12,
   "metadata": {},
   "outputs": [],
   "source": [
    "for i in data.columns:\n",
    "    if len(set(data[i]))==1:\n",
    "        data.drop(labels=[i], axis=1, inplace=True)"
   ]
  },
  {
   "cell_type": "code",
   "execution_count": 19,
   "metadata": {},
   "outputs": [
    {
     "name": "stdout",
     "output_type": "stream",
     "text": [
      "(105471, 158)\n"
     ]
    }
   ],
   "source": [
    "print(data.shape)\n"
   ]
  },
  {
   "cell_type": "code",
   "execution_count": 20,
   "metadata": {
    "scrolled": true
   },
   "outputs": [],
   "source": [
    "def remove_collinear_features(x, threshold):\n",
    "\n",
    "    # Dont want to remove correlations between loss\n",
    "    y = x['loss']\n",
    "    x = x.drop(columns = ['loss'])\n",
    "    \n",
    "    # Calculate the correlation matrix\n",
    "    corr_matrix = x.corr()\n",
    "    iters = range(len(corr_matrix.columns) - 1)\n",
    "    drop_cols = []\n",
    "\n",
    "    # Iterate through the correlation matrix and compare correlations\n",
    "    for i in iters:\n",
    "        for j in range(i):\n",
    "            item = corr_matrix.iloc[j:(j+1), (i+1):(i+2)]\n",
    "            col = item.columns\n",
    "            val = abs(item.values)\n",
    "            \n",
    "            # If correlation exceeds the threshold\n",
    "            if val >= threshold:\n",
    "                drop_cols.append(col.values[0])\n",
    "\n",
    "    # Drop one of each pair of correlated columns\n",
    "    drops = set(drop_cols)\n",
    "    x = x.drop(columns = drops)\n",
    "    \n",
    "    # Add the score back in to the data\n",
    "    x['loss'] = y\n",
    "               \n",
    "    return x\n",
    "data = remove_collinear_features(data, 0.6);\n"
   ]
  },
  {
   "cell_type": "code",
   "execution_count": 25,
   "metadata": {},
   "outputs": [],
   "source": [
    "import numpy as np\n",
    "y = data['loss'].values\n",
    "data = data.drop(columns = 'loss')\n",
    "fields = data.columns.values[:-1]\n",
    "X = data[fields].values\n",
    "for i in (range(len(y))):\n",
    "    if(y[i]>0):\n",
    "        y[i] = 1 "
   ]
  },
  {
   "cell_type": "code",
   "execution_count": 30,
   "metadata": {
    "scrolled": false
   },
   "outputs": [
    {
     "name": "stdout",
     "output_type": "stream",
     "text": [
      "(105471, 157)\n",
      "                  id             f1             f2             f3  \\\n",
      "count  105471.000000  105471.000000  105471.000000  105471.000000   \n",
      "mean    52736.000000     134.603171       8.246883       0.499066   \n",
      "std     30446.999458      14.725467       1.691535       0.288752   \n",
      "min         1.000000     103.000000       1.000000       0.000006   \n",
      "25%     26368.500000     124.000000       8.000000       0.248950   \n",
      "50%     52736.000000     129.000000       9.000000       0.498267   \n",
      "75%     79103.500000     148.000000       9.000000       0.749494   \n",
      "max    105471.000000     176.000000      11.000000       0.999994   \n",
      "\n",
      "                  f5             f6             f7             f8  \\\n",
      "count  105471.000000  105471.000000  105471.000000  105471.000000   \n",
      "mean        7.354533   47993.704317    2974.336018    2436.363718   \n",
      "std         5.151112   35677.136048    2544.352960    2261.866440   \n",
      "min         1.000000       0.000000       1.000000       1.000000   \n",
      "25%         4.000000   11255.000000     631.000000     747.000000   \n",
      "50%         4.000000   76530.000000    2299.000000    1788.000000   \n",
      "75%        10.000000   80135.000000    4674.000000    3408.500000   \n",
      "max        17.000000   88565.000000    9968.000000   11541.000000   \n",
      "\n",
      "                 f13            f14  ...          f658           f660  \\\n",
      "count  105471.000000  105471.000000  ...  1.054710e+05  105471.000000   \n",
      "mean       11.349015       0.696120  ...  4.819608e+07       1.070704   \n",
      "std         3.669019       0.242714  ...  1.239457e+08       0.501318   \n",
      "min         2.000000       0.000000  ...  9.100000e+01      -3.280000   \n",
      "25%         9.000000       0.680300  ...  3.394633e+06       0.990000   \n",
      "50%        11.000000       0.770500  ...  1.255824e+07       1.210000   \n",
      "75%        13.000000       0.831900  ...  3.563798e+07       1.370000   \n",
      "max        40.000000       1.000000  ...  1.881716e+09       4.670000   \n",
      "\n",
      "                f725           f733           f739           f740  \\\n",
      "count  105471.000000  105471.000000  105471.000000  105471.000000   \n",
      "mean        3.050327       4.865928       0.146969       6.618006   \n",
      "std         1.895549       2.140549       1.595118      38.790390   \n",
      "min         0.000000       0.000000     -10.586000    -513.650000   \n",
      "25%         1.000000       3.410000      -0.826000      -7.930000   \n",
      "50%         3.000000       4.870000       0.120000       1.080000   \n",
      "75%         5.000000       6.220000       1.144450      15.970000   \n",
      "max         6.000000      17.300000       9.605000     405.670000   \n",
      "\n",
      "                f746           f775           f776    loan_status  \n",
      "count  105471.000000  105471.000000  105471.000000  105471.000000  \n",
      "mean       -0.040303       0.014797       0.310246       0.092755  \n",
      "std         0.802493       1.031897       0.462597       0.290091  \n",
      "min        -1.425700     -18.439600       0.000000       0.000000  \n",
      "25%        -0.797250      -0.698850       0.000000       0.000000  \n",
      "50%        -0.342200       0.353600       0.000000       0.000000  \n",
      "75%         0.756800       0.732900       1.000000       0.000000  \n",
      "max         1.523400      11.092000       1.000000       1.000000  \n",
      "\n",
      "[8 rows x 138 columns]\n",
      "Correlation with output id             0.012704\n",
      "f1             0.015786\n",
      "f2             0.001280\n",
      "f3             0.004334\n",
      "f5             0.009096\n",
      "f6             0.015484\n",
      "f7             0.051595\n",
      "f8             0.039886\n",
      "f13            0.088221\n",
      "f14            0.059713\n",
      "f15            0.058159\n",
      "f16            0.043207\n",
      "f19            0.079175\n",
      "f25            0.101329\n",
      "f36            0.020049\n",
      "f44            0.005625\n",
      "f69            0.022110\n",
      "f70            0.015936\n",
      "f71            0.038878\n",
      "f75            0.047811\n",
      "f76            0.035715\n",
      "f77            0.070241\n",
      "f80            0.039279\n",
      "f81            0.021434\n",
      "f82            0.028189\n",
      "f83            0.018980\n",
      "f92            0.022872\n",
      "f93            0.016673\n",
      "f102           0.018910\n",
      "f103           0.014500\n",
      "                 ...   \n",
      "f536           0.027316\n",
      "f546           0.018779\n",
      "f556           0.006795\n",
      "f566           0.009371\n",
      "f601           0.041219\n",
      "f604           0.004876\n",
      "f609           0.019235\n",
      "f612           0.005541\n",
      "f614           0.039023\n",
      "f615           0.006055\n",
      "f616           0.005108\n",
      "f634           0.020494\n",
      "f635           0.004068\n",
      "f638           0.008295\n",
      "f639           0.003730\n",
      "f646           0.001122\n",
      "f647           0.003529\n",
      "f652           0.025197\n",
      "f654           0.030659\n",
      "f657           0.021369\n",
      "f658           0.017947\n",
      "f660           0.000404\n",
      "f725           0.000511\n",
      "f733           0.010657\n",
      "f739           0.017827\n",
      "f740           0.004492\n",
      "f746           0.002952\n",
      "f775           0.023432\n",
      "f776           0.004300\n",
      "loan_status    1.000000\n",
      "Name: loan_status, Length: 138, dtype: float64\n"
     ]
    }
   ],
   "source": [
    "print(data.shape)\n",
    "print(data.describe())\n",
    "data['loan_status'] = y \n",
    "corr = data.corr()\n",
    "cor_target = abs(corr['loan_status'])\n",
    "print(\"Correlation with output\",cor_target)\n"
   ]
  },
  {
   "cell_type": "code",
   "execution_count": 8,
   "metadata": {},
   "outputs": [],
   "source": [
    "data_clean = data.drop(columns='loss')\n",
    "data_clean['loan_status'] = y\n",
    "data_clean.to_csv('loanCleaned.csv', index=False)"
   ]
  },
  {
   "cell_type": "code",
   "execution_count": 7,
   "metadata": {},
   "outputs": [
    {
     "data": {
      "image/png": "[encoded data removed]",
      "text/plain": [
       "<Figure size 432x288 with 1 Axes>"
      ]
     },
     "metadata": {
      "needs_background": "light"
     },
     "output_type": "display_data"
    }
   ],
   "source": [
    "import matplotlib.pyplot as plt\n",
    "data = pd.read_csv(\"loanCleaned.csv\")\n",
    "plt.hist(data['loan_status'])\n",
    "plt.title(\"histogram of output\")\n",
    "plt.show()"
   ]
  },
  {
   "cell_type": "code",
   "execution_count": 19,
   "metadata": {},
   "outputs": [],
   "source": [
    "data = pd.read_csv('loanCleaned.csv')\n",
    "fields = data.columns.values[:-1]\n",
    "X = data[fields].values\n",
    "data['loan_status'] = data['loan_status'].apply(lambda x:int(x))\n",
    "y = data['loan_status'].values\n",
    "from sklearn.preprocessing import StandardScaler\n",
    "scl = StandardScaler()\n",
    "data_clean = pd.DataFrame(scl.fit_transform(data[fields]), columns = fields)\n",
    "data_clean['loan_status'] = y\n",
    "data_clean.to_csv('loanCleaned.csv', index=False)\n"
   ]
  },
  {
   "cell_type": "code",
   "execution_count": 57,
   "metadata": {},
   "outputs": [
    {
     "name": "stdout",
     "output_type": "stream",
     "text": [
      "Accuracies from cross validation  [91.08835798 91.10647578 90.86944155 91.58054423 90.65137006 90.03508107\n",
      " 90.78410923 90.45226131 90.00663696 90.1488575 ]\n",
      "False negative rates from cross validation  [0.08826318 0.08779748 0.09111596 0.08419456 0.0934863  0.09936475\n",
      " 0.09083152 0.09320186 0.09936475 0.09851143]\n"
     ]
    }
   ],
   "source": [
    "#ANN using PCA\n",
    "from sklearn.decomposition import PCA\n",
    "import numpy as np\n",
    "import pandas as pd\n",
    "import keras\n",
    "from sklearn.model_selection import train_test_split\n",
    "from sklearn.linear_model import LogisticRegression\n",
    "from sklearn.metrics import accuracy_score,confusion_matrix\n",
    "from sklearn.model_selection import KFold\n",
    "from keras.utils import to_categorical\n",
    "import warnings\n",
    "warnings.filterwarnings(\"ignore\")\n",
    "\n",
    "data = pd.read_csv('loanCleaned.csv')\n",
    "fields = data.columns.values[:-1]\n",
    "X = data[fields].values\n",
    "data['loan_status'] = data['loan_status'].apply(lambda x:int(x))\n",
    "y = data['loan_status'].values\n",
    "\n",
    "\n",
    "pca = PCA(n_components = 15)\n",
    "X_pca = pca.fit_transform(X)\n",
    "X = X_pca\n",
    "ANN_pca_scores = []\n",
    "fnr_val = []\n",
    "\n",
    "kf  = KFold(n_splits=10)\n",
    "for train_index, test_index in kf.split(X):\n",
    "    X_train, X_test = X[train_index], X[test_index]\n",
    "    y_train, y_test = y[train_index], y[test_index]\n",
    "    y_train = to_categorical(y_train)\n",
    "    y_test = to_categorical(y_test)\n",
    "    model = keras.Sequential([\n",
    "        keras.layers.Dense(15, input_shape=(15,),activation='relu'),\n",
    "        keras.layers.Dense(8, activation='relu'),\n",
    "        keras.layers.Dense(2,activation='softmax')\n",
    "        ])\n",
    "    model.compile(optimizer='sgd',\n",
    "              loss='categorical_crossentropy',\n",
    "              metrics=['accuracy'])\n",
    "    \n",
    "    model.fit(X_train, y_train, epochs=30, batch_size=10000, verbose=0)\n",
    "    y_pred = model.predict(X_test)\n",
    "    score = accuracy_score(np.argmax(y_test,axis=1), np.argmax(y_pred,axis=1))*100\n",
    "    tn, fp, fn, tp = confusion_matrix(np.argmax(y_test,axis=1), np.argmax(y_pred,axis=1)).ravel()\n",
    "    fnr_val.append(fn/len(y_test))\n",
    "    ANN_pca_scores.append(score)\n",
    "print(\"Accuracies from cross validation \",np.array(ANN_pca_scores))\n",
    "print(\"False negative rates from cross validation \", np.array(fnr_val))\n",
    "ANN_pca_acc = np.array(ANN_pca_scores).mean()\n",
    "ANN_pca_fnr = np.array(fnr_val).mean()"
   ]
  },
  {
   "cell_type": "code",
   "execution_count": 58,
   "metadata": {},
   "outputs": [
    {
     "name": "stdout",
     "output_type": "stream",
     "text": [
      "Accuracies obtained from cross validation [0.91173682 0.9092633  0.90888404 0.91580544 0.9065137  0.90044562\n",
      " 0.90840997 0.90660851 0.90063525 0.90148857]\n",
      "False negative rates  [0.08826318 0.08789229 0.09111596 0.08419456 0.0934863  0.09955438\n",
      " 0.09159003 0.09339149 0.09936475 0.09851143]\n"
     ]
    }
   ],
   "source": [
    "#Linear svm with PCA\n",
    "from sklearn.svm import LinearSVC\n",
    "data = pd.read_csv('loanCleaned.csv')\n",
    "fields = data.columns.values[:-1]\n",
    "X = data[fields].values\n",
    "data['loan_status'] = data['loan_status'].apply(lambda x:int(x))\n",
    "y = data['loan_status'].values\n",
    "linear_svc_pca_scores = []\n",
    "pca = PCA(n_components = 15)\n",
    "X_pca = pca.fit_transform(X)\n",
    "X = X_pca\n",
    "fnr_val = []\n",
    "\n",
    "kf  = KFold(n_splits=10)\n",
    "for train_index, test_index in kf.split(X):\n",
    "    X_train, X_test = X[train_index], X[test_index]\n",
    "    y_train, y_test = y[train_index], y[test_index]\n",
    "    svm = LinearSVC()\n",
    "    svm.fit(X_train, y_train)\n",
    "    y_pred = svm.predict(X_test)\n",
    "    linear_svc_pca_scores.append(accuracy_score(y_test, y_pred))\n",
    "    tn, fp, fn, tp = confusion_matrix(y_test, y_pred).ravel()\n",
    "    fnr_val.append(fn/len(y_test))\n",
    "print(\"Accuracies obtained from cross validation\", np.array(linear_svc_pca_scores))\n",
    "print(\"False negative rates \", np.array(fnr_val))\n",
    "linear_svc_pca_acc = np.array(linear_svc_pca_scores).mean()\n",
    "linear_svc_pca_fnr = np.array(fnr_val).mean()"
   ]
  },
  {
   "cell_type": "code",
   "execution_count": 60,
   "metadata": {},
   "outputs": [
    {
     "data": {
      "image/png": "[encoded data removed]",
      "text/plain": [
       "<Figure size 432x288 with 1 Axes>"
      ]
     },
     "metadata": {
      "needs_background": "light"
     },
     "output_type": "display_data"
    },
    {
     "data": {
      "image/png": "[encoded data removed]",
      "text/plain": [
       "<Figure size 432x288 with 1 Axes>"
      ]
     },
     "metadata": {
      "needs_background": "light"
     },
     "output_type": "display_data"
    },
    {
     "name": "stdout",
     "output_type": "stream",
     "text": [
      "[91.16420174 63.22176922 84.44107329 91.58054423 90.56603774 90.04456243\n",
      " 70.1336873  71.75500142 67.46942258 73.43320375]\n",
      "[0.08826317785362153, 0.0491134919882431, 0.07879017730160236, 0.08419455769413103, 0.09348629942163648, 0.09955437565184412, 0.05290603963212288, 0.0559400777472267, 0.05176827533895895, 0.09301223096615151]\n"
     ]
    }
   ],
   "source": [
    "#Implementation of logistic regression with PCA\n",
    "import math\n",
    "import numpy as np\n",
    "import pandas as pd\n",
    "import keras\n",
    "from tqdm import tqdm\n",
    "from sklearn.model_selection import train_test_split\n",
    "from sklearn.linear_model import LogisticRegression\n",
    "from sklearn.metrics import accuracy_score\n",
    "from sklearn.model_selection import KFold\n",
    "from numpy import vstack\n",
    "data = pd.read_csv('loanCleaned.csv')\n",
    "fields = data.columns.values[:-1]\n",
    "X = data[fields].values\n",
    "data['loan_status'] = data['loan_status'].apply(lambda x:int(x))\n",
    "y = data['loan_status'].values\n",
    "lg_m_pca_scores = []\n",
    "pca = PCA(n_components = 15)\n",
    "X_pca = pca.fit_transform(X)\n",
    "X = X_pca\n",
    "def sigmoid(z):\n",
    "    temp = 1 + (np.exp(-z))\n",
    "    return 1/temp\n",
    "def hypothesis(theta, x):\n",
    "    \n",
    "    if(sigmoid(np.dot(theta,x))<0.5):\n",
    "        return 0\n",
    "    else:\n",
    "        return 1\n",
    "def cost(theta, X, y):\n",
    "    c = 0\n",
    "    for i in range(len(X)):\n",
    "        temp = hypothesis(theta, X[i])\n",
    "        c = c + (-y[i]* np.log(temp) - (1-y[i])*np.log(1-temp)) \n",
    "    return c/len(X)\n",
    "def gradient(x,theta,y):\n",
    "    h = []\n",
    "    for i in x:\n",
    "        h.append(hypothesis(theta,i))\n",
    "    h = np.array(h)\n",
    "    error = np.dot(x.T, (h-y))/y.shape[0]\n",
    "    return np.array(error)\n",
    "def gradient_descent(X,y,theta, alpha):\n",
    "    num_iter = 350\n",
    "    for i in range(num_iter):\n",
    "        e = gradient(X,theta,y)\n",
    "        theta = theta - alpha * e\n",
    "    return theta, num_iter\n",
    "def predict(theta, X):\n",
    "    h = []\n",
    "    temp = np.ones(len(X)).reshape(len(X),1)\n",
    "    X = vstack((temp.T,X.T)).T\n",
    "    for i in X:\n",
    "        h.append(hypothesis(theta,i))\n",
    "    h = np.array(h)\n",
    "    return h\n",
    "def logistic_reg(X, y, X_test,alpha=0.1):\n",
    "    temp = np.ones(len(X)).reshape(len(X),1)\n",
    "    X = vstack((temp.T,X.T)).T\n",
    "    theta = np.ones(X.shape[1])\n",
    "    theta, num_iter = gradient_descent(X,y,theta,alpha)\n",
    "    y_pred = predict(theta,X_test)\n",
    "    return theta,y_pred\n",
    "a_scores = []\n",
    "a_fnr = []\n",
    "alphas = [0.1,0.001, 0.0001, 0.5,0.05,0.005, 1]\n",
    "X_train, X_test, y_train, y_test = train_test_split(X,y, test_size=0.2)\n",
    "\n",
    "for alpha in alphas:\n",
    "    theta, y_pred = logistic_reg(X_train,y_train, X_test,alpha)\n",
    "    a_scores.append(accuracy_score(y_test, y_pred))\n",
    "    tn, fp, fn, tp = confusion_matrix(y_test, y_pred).ravel()\n",
    "    a_fnr.append(fn/len(y_test))\n",
    "\n",
    "plt.scatter(alphas, a_scores)\n",
    "plt.xlabel(\"Alpha values\")\n",
    "plt.ylabel(\"Accuracy \")\n",
    "plt.show()\n",
    "plt.scatter(alphas, a_fnr)\n",
    "plt.xlabel(\"Alpha values\")\n",
    "plt.ylabel(\"False negative rates\")\n",
    "plt.show()\n",
    "\n",
    "fnr_scores = []\n",
    "kf  = KFold(n_splits=10)\n",
    "for train_index, test_index in kf.split(X):\n",
    "    X_train, X_test = X[train_index], X[test_index]\n",
    "    y_train, y_test = y[train_index], y[test_index]\n",
    "    theta, y_pred = logistic_reg(X_train, y_train, X_test)\n",
    "    lg_m_pca_scores.append(accuracy_score(y_test, y_pred))\n",
    "    tn, fp, fn, tp = confusion_matrix(y_test, y_pred).ravel()\n",
    "    fnr_scores.append(fn/len(y_test))\n",
    "print(np.array(lg_m_pca_scores)*100)\n",
    "print(fnr_scores)\n",
    "LogReg_m_pca_acc = (np.array(lg_m_pca_scores)*100).mean()\n",
    "LogReg_m_pca_fnr = np.array(fnr_scores).mean()\n"
   ]
  },
  {
   "cell_type": "code",
   "execution_count": 66,
   "metadata": {},
   "outputs": [
    {
     "name": "stdout",
     "output_type": "stream",
     "text": [
      "Accuracies from cross validation  [91.17368221 91.1918081  90.88840429 91.58054423 90.65137006 90.04456243\n",
      " 90.84099744 90.66085143 90.06352517 90.1488575 ]\n",
      "False negative rates from cross validation [0.08826318 0.08808192 0.09111596 0.08419456 0.0934863  0.09955438\n",
      " 0.09159003 0.09339149 0.09936475 0.09851143]\n"
     ]
    },
    {
     "data": {
      "image/png": "[encoded data removed]",
      "text/plain": [
       "<Figure size 432x288 with 1 Axes>"
      ]
     },
     "metadata": {
      "needs_background": "light"
     },
     "output_type": "display_data"
    },
    {
     "data": {
      "image/png": "[encoded data removed]",
      "text/plain": [
       "<Figure size 432x288 with 1 Axes>"
      ]
     },
     "metadata": {
      "needs_background": "light"
     },
     "output_type": "display_data"
    }
   ],
   "source": [
    "#Logistic regression using inbuilt class with PCA\n",
    "import numpy as np\n",
    "import pandas as pd\n",
    "import keras\n",
    "from matplotlib import pyplot as plt\n",
    "from sklearn.model_selection import train_test_split\n",
    "from sklearn.linear_model import LogisticRegression\n",
    "from sklearn.metrics import accuracy_score, confusion_matrix\n",
    "from sklearn.model_selection import KFold\n",
    "from sklearn.decomposition import PCA\n",
    "import warnings\n",
    "warnings.filterwarnings(\"ignore\")\n",
    "\n",
    "data = pd.read_csv('loanCleaned.csv')\n",
    "fields = data.columns.values[:-1]\n",
    "X = data[fields].values\n",
    "data['loan_status'] = data['loan_status'].apply(lambda x:int(x))\n",
    "y = data['loan_status'].values\n",
    "lg_wo_pca_scores = []\n",
    "log_wo_pca_fnr = []\n",
    "kf  = KFold(n_splits=10)\n",
    "pca = PCA(n_components = 15)\n",
    "X_pca = pca.fit_transform(X)\n",
    "X = X_pca\n",
    "for train_index, test_index in kf.split(X):\n",
    "    X_train, X_test = X[train_index], X[test_index]\n",
    "    y_train, y_test = y[train_index], y[test_index]\n",
    "    model = LogisticRegression().fit(X_train, y_train)\n",
    "    y_pred = model.predict(X_test)\n",
    "    lg_wo_pca_scores.append(accuracy_score(y_test, y_pred)*100)\n",
    "    tn, fp, fn, tp = confusion_matrix(y_test, y_pred).ravel()\n",
    "    log_wo_pca_fnr.append(fn/len(y_test))\n",
    "\n",
    "LogReg_pca_acc = np.array(lg_wo_pca_scores).mean()\n",
    "LogReg_pca_fnr = np.array(log_wo_pca_fnr).mean()\n",
    "print(\"Accuracies from cross validation \",np.array(lg_wo_pca_scores))\n",
    "print(\"False negative rates from cross validation\", np.array(log_wo_pca_fnr))\n",
    "solvers = ['newton-cg', 'lbfgs', 'liblinear', 'sag', 'saga']\n",
    "scores_solvers = []\n",
    "fnr_solvers = []\n",
    "X_train, X_test, y_train, y_test = train_test_split(X,y, test_size=0.2)\n",
    "\n",
    "for s in solvers:\n",
    "        model = LogisticRegression(solver=s).fit(X_train, y_train)\n",
    "        y_pred = model.predict(X_test)\n",
    "        scores_solvers.append(accuracy_score(y_test, y_pred)*100)\n",
    "        tn, fp, fn, tp = confusion_matrix(y_test, y_pred).ravel()\n",
    "        fnr_solvers.append(fn/len(y_test))\n",
    "plt.scatter(solvers, scores_solvers)\n",
    "plt.xlabel('Different solvers used in logistic regression')\n",
    "plt.ylabel('Accuracy')\n",
    "plt.show()\n",
    "\n",
    "plt.scatter(solvers, fnr_solvers)\n",
    "plt.xlabel('Different solvers used in logistic regression')\n",
    "plt.ylabel('False Negative Rate')\n",
    "plt.show()"
   ]
  },
  {
   "cell_type": "code",
   "execution_count": 61,
   "metadata": {},
   "outputs": [
    {
     "data": {
      "text/plain": [
       "<function matplotlib.pyplot.show(*args, **kw)>"
      ]
     },
     "execution_count": 61,
     "metadata": {},
     "output_type": "execute_result"
    },
    {
     "data": {
      "image/png": "[encoded data removed]",
      "text/plain": [
       "<Figure size 720x360 with 1 Axes>"
      ]
     },
     "metadata": {
      "needs_background": "light"
     },
     "output_type": "display_data"
    },
    {
     "data": {
      "image/png": "[encoded data removed]",
      "text/plain": [
       "<Figure size 720x360 with 1 Axes>"
      ]
     },
     "metadata": {
      "needs_background": "light"
     },
     "output_type": "display_data"
    }
   ],
   "source": [
    "acc = [LogReg_pca_acc, LogReg_m_pca_acc, ANN_pca_acc, linear_svc_pca_acc*100]\n",
    "fnr = [LogReg_pca_fnr, LogReg_m_pca_fnr, ANN_pca_fnr,linear_svc_pca_fnr]\n",
    "algos = [\"LogReg pca\", \"LogReg manual pca\",  \"ANN pca\",\"SVM pca\"]\n",
    "plt.figure(figsize=(10,5))\n",
    "plt.title(\"Accuracy vs Algorithm\")\n",
    "plt.bar(algos, acc)\n",
    "plt.xlabel(\"Algorithms\")\n",
    "plt.ylabel(\"Average Accuracies\")\n",
    "plt.show()\n",
    "\n",
    "plt.figure(figsize=(10,5))\n",
    "plt.title(\"False negative rate vs Algorithms\")\n",
    "plt.bar(algos, fnr)\n",
    "plt.xlabel(\"Algorithms\")\n",
    "plt.ylabel(\"Average False negative rates\")\n",
    "plt.show()"
   ]
  },
  {
   "cell_type": "code",
   "execution_count": 64,
   "metadata": {},
   "outputs": [
    {
     "name": "stdout",
     "output_type": "stream",
     "text": [
      "Accuracies from cross validation [51.91505499 55.00142221 89.88337916 80.37356594 47.19825543 84.84877216\n",
      " 90.81255333 80.69593249 57.71309377 45.14079833]\n",
      "False negative rates [0.02246871 0.02256566 0.00199109 0.08068645 0.05394899 0.08884043\n",
      " 0.09159003 0.07992794 0.0768939  0.06779179]\n"
     ]
    }
   ],
   "source": [
    "import pandas as pd\n",
    "import numpy as np\n",
    "from sklearn.metrics import accuracy_score\n",
    "from sklearn.model_selection import KFold\n",
    "from sklearn.model_selection import train_test_split\n",
    "from sklearn.cluster import MiniBatchKMeans\n",
    "def convert(y):\n",
    "    a =[]\n",
    "    for i in y:\n",
    "        a.append(1-i)\n",
    "    return np.array(a)    \n",
    "\n",
    "data = pd.read_csv('loanCleaned.csv')\n",
    "fields = data.columns.values[:-1]\n",
    "X = data[fields].values\n",
    "data['loan_status'] = data['loan_status'].apply(lambda x:int(x))\n",
    "y = data['loan_status'].values\n",
    "mbkm_scores = []\n",
    "mbkm_fnr = []\n",
    "pca = PCA(n_components = 15)\n",
    "X_pca = pca.fit_transform(X)\n",
    "kf  = KFold(n_splits=10)\n",
    "for train_index, test_index in kf.split(X_pca):\n",
    "    X_train, X_test = X_pca[train_index], X_pca[test_index]\n",
    "    y_train, y_test = y[train_index], y[test_index]\n",
    "    s = X_pca[0]\n",
    "    mbkm = MiniBatchKMeans(n_clusters=2).fit(X_train)\n",
    "    pred = mbkm.predict(s.reshape(1,-1))\n",
    "    y_pred = mbkm.predict(X_test)\n",
    "    if(pred==0):\n",
    "        score = accuracy_score(y_test, y_pred)\n",
    "        mbkm_scores.append(score*100)\n",
    "        tn, fp, fn, tp = confusion_matrix(y_test, y_pred).ravel()\n",
    "        mbkm_fnr.append(fn/len(y_test))\n",
    "    else:\n",
    "        temp = convert(y_test)\n",
    "        score = accuracy_score(temp, y_pred)\n",
    "        mbkm_scores.append(score*100)\n",
    "        tn, fp, fn, tp = confusion_matrix(y_test, y_pred).ravel()\n",
    "        mbkm_fnr.append(fn/len(y_test))\n",
    "print(\"Accuracies from cross validation\",np.array(mbkm_scores))\n",
    "print(\"False negative rates\",np.array(mbkm_fnr))\n",
    "\n",
    "mbkm_pca_acc = np.array(mbkm_scores).mean()\n",
    "mbkm_pca_fnr = np.array(mbkm_fnr).mean()"
   ]
  },
  {
   "cell_type": "code",
   "execution_count": 69,
   "metadata": {},
   "outputs": [
    {
     "name": "stdout",
     "output_type": "stream",
     "text": [
      "Accuracies from cross validation [41.97952218 43.95562719 46.42078316 42.67564236 39.89760121 40.78884991\n",
      " 43.25400588 43.7091116  46.07945387 47.40684555]\n",
      "False negative rates [0.03365567 0.03147815 0.06011188 0.02872855 0.05812079 0.03375367\n",
      " 0.05641415 0.05840523 0.06674884 0.02872855]\n"
     ]
    }
   ],
   "source": [
    "\n",
    "#Kmeans manual with pca\n",
    "import pandas as pd\n",
    "import numpy as np\n",
    "from sklearn.metrics import accuracy_score\n",
    "from sklearn.model_selection import KFold\n",
    "from sklearn.model_selection import train_test_split\n",
    "from sklearn.metrics.pairwise import euclidean_distances as ed\n",
    "from sklearn.decomposition import PCA\n",
    "def convert(y):\n",
    "    a =[]\n",
    "    for i in y:\n",
    "        a.append(1-i)\n",
    "    return np.array(a)    \n",
    "\n",
    "data = pd.read_csv('loanCleaned.csv')\n",
    "fields = data.columns.values[:-1]\n",
    "X = data[fields].values\n",
    "data['loan_status'] = data['loan_status'].apply(lambda x:int(x))\n",
    "y = data['loan_status'].values\n",
    "pca = PCA(n_components = 15)\n",
    "X_pca = pca.fit_transform(X)\n",
    "X = X_pca\n",
    "def kmeansc(X, y):\n",
    "    c1 = np.random.rand(1,X.shape[1])\n",
    "    c2 = np.random.rand(1,X.shape[1])\n",
    "    oldc1 = np.zeros(X.shape[1])\n",
    "    oldc2 = np.zeros(X.shape[1])\n",
    "    \n",
    "    while (np.all(oldc1 != c1) and np.all(oldc2!=c2)):\n",
    "        distance1 = ed(X, c1.reshape(1,-1))\n",
    "        distance2 = ed(X, c2.reshape(1, -1))\n",
    "        count1 = 0\n",
    "        count2 = 0\n",
    "        sum1 = [0] * X.shape[1]\n",
    "        sum2 = [0] * X.shape[1]\n",
    "        sum1 = np.array(sum1)\n",
    "        sum2 = np.array(sum2)\n",
    "        for i in range(len(distance1)):\n",
    "            if(distance1[i,0] < distance2[i,0]):\n",
    "                sum1 = sum1 + X[i,:]\n",
    "                count1 = count1 + 1\n",
    "            else:\n",
    "                sum2 = sum2 + X[i,:]\n",
    "                count2 = count2 + 1\n",
    "        oldc1 = c1\n",
    "        oldc2 = c2\n",
    "        c1 = sum1/count1\n",
    "        c2 = sum2/count2\n",
    "    return c1, c2\n",
    "\n",
    "\n",
    "def predict(X, c1, c2):\n",
    "    distance1 = ed(X, c1.reshape(1, -1))\n",
    "    distance2 = ed(X, c2.reshape(1, -1))\n",
    "    label = []\n",
    "    for i in range(len(distance1)):\n",
    "            if(distance1[i, 0] < distance2[i, 0]):\n",
    "                label.append(0)\n",
    "            else:\n",
    "                label.append(1)\n",
    "    return np.array(label)\n",
    "scores = []\n",
    "fnr_val = []\n",
    "kf  = KFold(n_splits=10)\n",
    "for train_index, test_index in kf.split(X):\n",
    "    X_train, X_test = X[train_index], X[test_index]\n",
    "    y_train, y_test = y[train_index], y[test_index]\n",
    "    s = X[0]\n",
    "    c1, c2 = kmeansc(X_train, y_train)\n",
    "    \n",
    "    pred = predict(s.reshape(1,-1),c1,c2)\n",
    "    y_pred = predict(X_test,c1,c2)\n",
    "    if(pred==0):\n",
    "        score = accuracy_score(y_test, y_pred)\n",
    "        scores.append(score*100)\n",
    "        tn, fp, fn, tp = confusion_matrix(y_test, y_pred).ravel()\n",
    "        fnr_val.append(fn/len(y_test))\n",
    "    else:\n",
    "        temp = convert(y_test)\n",
    "        score = accuracy_score(temp, y_pred)\n",
    "        scores.append(score*100)\n",
    "        tn, fp, fn, tp = confusion_matrix(y_test, y_pred).ravel()\n",
    "        fnr_val.append(fn/len(y_test))\n",
    "print(\"Accuracies from cross validation\",np.array(scores))\n",
    "print(\"False negative rates\",np.array(fnr_val))\n",
    "\n",
    "kmeans_m_pca_acc = np.array(scores).mean()\n",
    "kmeans_m_pca_fnr = np.array(fnr_val).mean()"
   ]
  },
  {
   "cell_type": "code",
   "execution_count": 71,
   "metadata": {},
   "outputs": [
    {
     "data": {
      "image/png": "[encoded data removed]",
      "text/plain": [
       "<Figure size 576x360 with 1 Axes>"
      ]
     },
     "metadata": {
      "needs_background": "light"
     },
     "output_type": "display_data"
    },
    {
     "data": {
      "image/png": "[encoded data removed]",
      "text/plain": [
       "<Figure size 576x360 with 1 Axes>"
      ]
     },
     "metadata": {
      "needs_background": "light"
     },
     "output_type": "display_data"
    }
   ],
   "source": [
    "from matplotlib import pyplot as plt\n",
    "algos = [\"mini batch kmeans with pca\", \"kmeans manual pca\"]\n",
    "acc = [mbkm_pca_acc, kmeans_m_pca_acc]\n",
    "fnr = [mbkm_pca_fnr, kmeans_m_pca_fnr]\n",
    "\n",
    "plt.figure(figsize=(8,5))\n",
    "plt.scatter(algos, acc)\n",
    "plt.xlabel(\"Algorithms\")\n",
    "plt.ylabel(\"Average accuracies\")\n",
    "plt.show()\n",
    "\n",
    "plt.figure(figsize=(8,5))\n",
    "plt.scatter(algos, fnr)\n",
    "plt.xlabel(\"Algorithms\")\n",
    "plt.ylabel(\"Average false negative rate\")\n",
    "plt.show()"
   ]
  },
  {
   "cell_type": "code",
   "execution_count": null,
   "metadata": {},
   "outputs": [],
   "source": []
  }
 ],
 "metadata": {
  "kernelspec": {
   "display_name": "Python 3",
   "language": "python",
   "name": "python3"
  },
  "language_info": {
   "codemirror_mode": {
    "name": "ipython",
    "version": 3
   },
   "file_extension": ".py",
   "mimetype": "text/x-python",
   "name": "python",
   "nbconvert_exporter": "python",
   "pygments_lexer": "ipython3",
   "version": "3.7.3"
  }
 },
 "nbformat": 4,
 "nbformat_minor": 2
}
