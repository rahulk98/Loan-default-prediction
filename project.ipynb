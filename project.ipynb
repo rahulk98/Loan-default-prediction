{
 "cells": [
  {
   "cell_type": "code",
   "execution_count": 17,
   "metadata": {},
   "outputs": [],
   "source": [
    "#Importing the necessary libraries\n",
    "import numpy as np\n",
    "import pandas as pd\n",
    "import matplotlib.pyplot as plt\n",
    "from sklearn.preprocessing import LabelEncoder,StandardScaler\n",
    "from sklearn.decomposition import PCA\n",
    "import seaborn as sns"
   ]
  },
  {
   "cell_type": "code",
   "execution_count": 3,
   "metadata": {},
   "outputs": [
    {
     "ename": "NameError",
     "evalue": "name 'data' is not defined",
     "output_type": "error",
     "traceback": [
      "\u001b[0;31m---------------------------------------------------------------------------\u001b[0m",
      "\u001b[0;31mNameError\u001b[0m                                 Traceback (most recent call last)",
      "\u001b[0;32m<ipython-input-3-8011276fe56c>\u001b[0m in \u001b[0;36m<module>\u001b[0;34m\u001b[0m\n\u001b[0;32m----> 1\u001b[0;31m \u001b[0mprint\u001b[0m\u001b[0;34m(\u001b[0m\u001b[0mdata\u001b[0m\u001b[0;34m.\u001b[0m\u001b[0mcolumns\u001b[0m\u001b[0;34m)\u001b[0m\u001b[0;34m\u001b[0m\u001b[0;34m\u001b[0m\u001b[0m\n\u001b[0m\u001b[1;32m      2\u001b[0m \u001b[0mdata\u001b[0m \u001b[0;34m=\u001b[0m \u001b[0mtemp\u001b[0m\u001b[0;34m\u001b[0m\u001b[0;34m\u001b[0m\u001b[0m\n",
      "\u001b[0;31mNameError\u001b[0m: name 'data' is not defined"
     ]
    }
   ],
   "source": [
    "print(data.columns)\n",
    "data = temp"
   ]
  },
  {
   "cell_type": "code",
   "execution_count": 6,
   "metadata": {},
   "outputs": [
    {
     "name": "stdout",
     "output_type": "stream",
     "text": [
      "(188183, 86)\n"
     ]
    }
   ],
   "source": [
    "#Data preprocessing\n",
    "data = pd.read_csv('LoanStats3b.csv',skiprows=1,low_memory=False)\n",
    "c = []\n",
    "#Dropping columns filled with more than half null values\n",
    "data = data.dropna(thresh = len(data)/2,axis=1)\n",
    "print(data.shape)\n",
    "#Removing redundant and irrelevant columns\n",
    "del_col = ['application_type', 'pymnt_plan','title','zip_code','out_prncp','out_prncp_inv','dti','total_pymnt_inv','collection_recovery_fee','recoveries','initial_list_status','last_pymnt_d','policy_code','delinq_amnt','tax_liens','debt_settlement_flag','hardship_flag','sub_grade','emp_title','revol_util','earliest_cr_line','last_credit_pull_d','funded_amnt_inv','total_rec_late_fee']\n",
    "data = data.drop(labels = del_col,axis=1)\n",
    "#Converting the output from labels to classes\n",
    "data = data[(data['loan_status']==\"Fully Paid\") | (data['loan_status']==\"Charged Off\")]\n",
    "di = {\"Fully Paid\":0, \"Charged Off\":1}   #converting target variable to boolean\n",
    "data= data.replace({\"loan_status\": di})\n",
    "#Removing percentage from rate\n",
    "data.iloc[:,3] = data.iloc[:,3].apply(lambda x: float(x[:-1]))\n",
    "#Selecting month from date and no of months from term\n",
    "data.iloc[:,2] = data.iloc[:,2].apply(lambda x: float(x[:-7]))\n",
    "data.iloc[:,10] = data.iloc[:,10].apply(lambda x:(x[:-5]))\n",
    "#Converting employed length to numerical form\n",
    "data[\"emp_length\"] = data[\"emp_length\"].replace({'years':'','year':'',' ':'','<':'','\\+':'','n/a':'0'}, regex = True)\n",
    "data[\"emp_length\"] = data[\"emp_length\"].apply(lambda x:float(x))\n",
    "#Converting months to numerical form\n",
    "month = {'Jan':1, 'Feb':2,'Mar':3, 'Apr':4, 'May':5, 'Jun':6,'Jul':7,'Aug':8,'Sep':9, 'Oct':10,'Nov':11, 'Dec':12}\n",
    "data['issue_d'] = data['issue_d'].replace(month)\n",
    "data['issue_d'] = data['issue_d'].apply(lambda x:int(x))\n",
    "data = data.drop('funded_amnt',axis=1)\n",
    "data = data[[c for c in data if c not in ['loan_status']] + ['loan_status']]\n",
    "#Converting categorical data to numerical form\n",
    "string_label = ['grade','home_ownership','verification_status','purpose','addr_state']\n",
    "for i in string_label:\n",
    "    le = LabelEncoder()\n",
    "    data[i] = le.fit_transform(data[i])\n"
   ]
  },
  {
   "cell_type": "code",
   "execution_count": 14,
   "metadata": {},
   "outputs": [
    {
     "name": "stdout",
     "output_type": "stream",
     "text": [
      "(188181, 62)\n"
     ]
    }
   ],
   "source": [
    "#Data preprocessing\n",
    "data = pd.read_csv('LoanStats3b.csv',skiprows=1,low_memory=False)\n",
    "data = data.drop([data.index[len(data)-1], data.index[len(data)-2]])\n",
    "c = []\n",
    "#Dropping columns filled with more than half null values\n",
    "data = data.dropna(thresh = len(data)*9/10,axis=1)\n",
    "print(data.shape)\n",
    "#Removing redundant and irrelevant columns\n",
    "data.to_csv('dataAfter1.csv')\n",
    "\n",
    "#Removing columns which have same values throughout\n",
    "del_col = ['funded_amnt_inv','emp_title','pymnt_plan','title','zip_code','out_prncp','out_prncp_inv','funded_amnt','total_pymnt_inv','policy_code','application_type','delinq_amnt','hardship_flag','debt_settlement_flag','earliest_cr_line','last_pymnt_d','last_credit_pull_d','revol_util']\n",
    "data = data.drop(labels = del_col,axis=1)\n",
    "data.to_csv('dataAfter2.csv')\n",
    "\n",
    "#Removing percentage from rate\n",
    "#Selecting month from date and no of months from term\n",
    "data.iloc[:,2] = data.iloc[:,2].apply(lambda x: float(x[:-1]))\n",
    "data.iloc[:,1] = data.iloc[:,1].apply(lambda x: float(x[:-7]))\n",
    "data.iloc[:,10] = data.iloc[:,10].apply(lambda x:(x[:-5]))\n",
    "\n",
    "#Converting employed length to numerical form\n",
    "data[\"emp_length\"] = data[\"emp_length\"].replace({'years':'','year':'',' ':'','<':'','\\+':'','n/a':'0'}, regex = True)\n",
    "data[\"emp_length\"] = data[\"emp_length\"].apply(lambda x:float(x))\n",
    "#Converting months to numerical form\n",
    "month = {'Jan':1, 'Feb':2,'Mar':3, 'Apr':4, 'May':5, 'Jun':6,'Jul':7,'Aug':8,'Sep':9, 'Oct':10,'Nov':11, 'Dec':12}\n",
    "data['issue_d'] = data['issue_d'].replace(month)\n",
    "data['issue_d'] = data['issue_d'].apply(lambda x:int(x))\n",
    "#Converting the output from labels to classes\n",
    "data = data[(data['loan_status']==\"Fully Paid\") | (data['loan_status']==\"Charged Off\")]\n",
    "di = {\"Fully Paid\":0, \"Charged Off\":1}   #converting target variable to boolean\n",
    "data= data.replace({\"loan_status\": di})\n",
    "data = data[[c for c in data if c not in ['loan_status']] + ['loan_status']]\n",
    "#Converting categorical data to numerical form\n",
    "string_label = ['grade','sub_grade','home_ownership','verification_status','purpose','addr_state','initial_list_status']\n",
    "for i in string_label:\n",
    "    le = LabelEncoder()\n",
    "    data[i] = le.fit_transform(data[i])\n",
    "\n",
    "#Filling null values by mean\n",
    "print(data['loan_status'].value_counts())\n",
    "\n",
    "#Applying standardization\n",
    "scl = StandardScaler() #instance of preprocessing\n",
    "fields = data.columns.values[:-1]\n",
    "data.fillna(data.mean(),inplace = True)\n",
    "\n",
    "data_clean = pd.DataFrame(scl.fit_transform(data[fields]), columns = fields)\n",
    "\n",
    "print(data['loan_status'].shape)\n",
    "print(data['loan_status'].value_counts())\n",
    "data_clean['loan_status'] = data['loan_status']\n",
    "\n",
    "print(data_clean['loan_status'].value_counts())\n",
    "data_clean['loan_status'].fillna(0, inplace=True)\n",
    "print(data_clean['loan_status'].value_counts())\n",
    "\n",
    "data_clean.to_csv('loanCleaned.csv')\n",
    "print(data.shape)"
   ]
  },
  {
   "cell_type": "code",
   "execution_count": 15,
   "metadata": {},
   "outputs": [],
   "source": []
  },
  {
   "cell_type": "code",
   "execution_count": 16,
   "metadata": {},
   "outputs": [],
   "source": []
  },
  {
   "cell_type": "code",
   "execution_count": 18,
   "metadata": {},
   "outputs": [],
   "source": []
  },
  {
   "cell_type": "code",
   "execution_count": 19,
   "metadata": {},
   "outputs": [],
   "source": [
    "data.to_csv('dataAfter4.csv')"
   ]
  },
  {
   "cell_type": "code",
   "execution_count": 20,
   "metadata": {},
   "outputs": [
    {
     "name": "stdout",
     "output_type": "stream",
     "text": [
      "0    158510\n",
      "1     29670\n",
      "Name: loan_status, dtype: int64\n"
     ]
    },
    {
     "name": "stderr",
     "output_type": "stream",
     "text": [
      "/anaconda3/lib/python3.7/site-packages/sklearn/preprocessing/data.py:645: DataConversionWarning: Data with input dtype int64, float64 were all converted to float64 by StandardScaler.\n",
      "  return self.partial_fit(X, y)\n",
      "/anaconda3/lib/python3.7/site-packages/sklearn/base.py:464: DataConversionWarning: Data with input dtype int64, float64 were all converted to float64 by StandardScaler.\n",
      "  return self.fit(X, **fit_params).transform(X)\n"
     ]
    },
    {
     "name": "stdout",
     "output_type": "stream",
     "text": [
      "(188180,)\n",
      "0    158510\n",
      "1     29670\n",
      "Name: loan_status, dtype: int64\n",
      "0.0    158509\n",
      "1.0     29670\n",
      "Name: loan_status, dtype: int64\n",
      "0.0    158510\n",
      "1.0     29670\n",
      "Name: loan_status, dtype: int64\n",
      "(188180, 44)\n"
     ]
    }
   ],
   "source": []
  },
  {
   "cell_type": "code",
   "execution_count": 8,
   "metadata": {},
   "outputs": [
    {
     "name": "stdout",
     "output_type": "stream",
     "text": [
      "loan_amnt                     0.002726\n",
      "term                          0.003856\n",
      "int_rate                      0.009593\n",
      "installment                   0.002980\n",
      "grade                         0.008820\n",
      "emp_length                    0.007458\n",
      "home_ownership                0.007472\n",
      "annual_inc                    0.007404\n",
      "verification_status           0.002522\n",
      "issue_d                       0.002901\n",
      "purpose                       0.004592\n",
      "addr_state                    0.003691\n",
      "delinq_2yrs                   0.003434\n",
      "inq_last_6mths                0.000611\n",
      "open_acc                      0.002459\n",
      "pub_rec                       0.000006\n",
      "revol_bal                     0.007061\n",
      "total_acc                     0.004920\n",
      "total_pymnt                   0.017189\n",
      "total_rec_prncp               0.024174\n",
      "total_rec_int                 0.003466\n",
      "last_pymnt_amnt               0.019036\n",
      "collections_12_mths_ex_med    0.004157\n",
      "acc_now_delinq                0.000392\n",
      "tot_coll_amt                  0.001089\n",
      "tot_cur_bal                   0.012940\n",
      "total_rev_hi_lim              0.005620\n",
      "acc_open_past_24mths          0.003466\n",
      "avg_cur_bal                   0.010939\n",
      "bc_open_to_buy                0.002944\n",
      "                                ...   \n",
      "chargeoff_within_12_mths      0.001294\n",
      "mo_sin_old_il_acct            0.004747\n",
      "mo_sin_old_rev_tl_op          0.006122\n",
      "mo_sin_rcnt_rev_tl_op         0.004522\n",
      "mo_sin_rcnt_tl                0.000946\n",
      "mort_acc                      0.008190\n",
      "mths_since_recent_bc          0.000313\n",
      "mths_since_recent_inq         0.003200\n",
      "num_accts_ever_120_pd         0.003542\n",
      "num_actv_bc_tl                0.002906\n",
      "num_actv_rev_tl               0.004941\n",
      "num_bc_sats                   0.000749\n",
      "num_bc_tl                     0.000573\n",
      "num_il_tl                     0.003287\n",
      "num_op_rev_tl                 0.001024\n",
      "num_rev_accts                 0.000066\n",
      "num_rev_tl_bal_gt_0           0.004848\n",
      "num_sats                      0.002332\n",
      "num_tl_120dpd_2m              0.000794\n",
      "num_tl_30dpd                  0.002124\n",
      "num_tl_90g_dpd_24m            0.002560\n",
      "num_tl_op_past_12m            0.004312\n",
      "pct_tl_nvr_dlq                0.004266\n",
      "percent_bc_gt_75              0.002178\n",
      "pub_rec_bankruptcies          0.002139\n",
      "tot_hi_cred_lim               0.013240\n",
      "total_bal_ex_mort             0.007772\n",
      "total_bc_limit                0.005695\n",
      "total_il_high_credit_limit    0.005010\n",
      "loan_status                   1.000000\n",
      "Name: loan_status, Length: 61, dtype: float64\n"
     ]
    }
   ],
   "source": [
    "cor = data_clean.corr()\n",
    "cor_target = abs(cor['loan_status'])\n",
    "relevant_features = cor_target[cor_target>0.05]\n",
    "print(cor_target)"
   ]
  },
  {
   "cell_type": "code",
   "execution_count": 139,
   "metadata": {},
   "outputs": [
    {
     "name": "stdout",
     "output_type": "stream",
     "text": [
      "          loan_amnt          term      int_rate   installment         grade  \\\n",
      "count  1.881800e+05  1.881800e+05  1.881800e+05  1.881800e+05  1.881800e+05   \n",
      "mean   1.669478e-15 -8.201884e-14 -7.245599e-15  1.807792e-15  3.430978e-15   \n",
      "std    1.000003e+00  1.000003e+00  1.000003e+00  1.000003e+00  1.000003e+00   \n",
      "min   -1.645663e+00 -5.547850e-01 -1.865596e+00 -1.808395e+00 -1.364211e+00   \n",
      "25%   -7.830376e-01 -5.547850e-01 -7.072502e-01 -7.160736e-01 -5.876474e-01   \n",
      "50%   -2.685431e-01 -5.547850e-01 -4.244092e-02 -1.876135e-01  1.889166e-01   \n",
      "75%    6.957492e-01 -5.547850e-01  6.742010e-01  5.546128e-01  1.889166e-01   \n",
      "max    2.544233e+00  1.802500e+00  2.655107e+00  3.974459e+00  3.295173e+00   \n",
      "\n",
      "          sub_grade    emp_length  home_ownership    annual_inc  \\\n",
      "count  1.881800e+05  1.881800e+05    1.881800e+05  1.881800e+05   \n",
      "mean  -3.592650e-15  2.553149e-14   -5.207622e-15  1.969941e-16   \n",
      "std    1.000003e+00  1.000003e+00    1.000003e+00  1.000003e+00   \n",
      "min   -1.676095e+00 -1.529988e+00   -9.601707e-01 -1.301182e+00   \n",
      "25%   -7.396218e-01 -9.374150e-01   -9.601707e-01 -5.254887e-01   \n",
      "50%   -1.153066e-01  0.000000e+00   -9.601707e-01 -1.974591e-01   \n",
      "75%    5.090087e-01  1.136592e+00    1.110717e+00  2.849373e-01   \n",
      "max    3.630585e+00  1.136592e+00    1.110717e+00  1.364129e+02   \n",
      "\n",
      "       verification_status  ...      mort_acc  mths_since_recent_bc  \\\n",
      "count         1.881800e+05  ...  1.881800e+05          1.881800e+05   \n",
      "mean         -7.464140e-14  ... -5.039941e-14          6.717240e-16   \n",
      "std           1.000003e+00  ...  1.000003e+00          1.000003e+00   \n",
      "min          -1.326449e+00  ... -8.426023e-01         -8.913017e-01   \n",
      "25%          -1.326449e+00  ... -8.426023e-01         -6.481554e-01   \n",
      "50%          -1.747925e-01  ... -3.773410e-01         -3.355387e-01   \n",
      "75%           9.768637e-01  ...  5.531816e-01          1.854890e-01   \n",
      "max           9.768637e-01  ...  1.358050e+01          1.835199e+01   \n",
      "\n",
      "        num_bc_sats      num_sats  percent_bc_gt_75  pub_rec_bankruptcies  \\\n",
      "count  1.881800e+05  1.881800e+05      1.881800e+05          1.881800e+05   \n",
      "mean  -2.525102e-14 -1.911168e-14      9.023994e-17          1.491939e-13   \n",
      "std    1.000003e+00  1.000003e+00      1.000003e+00          1.000003e+00   \n",
      "min   -1.962262e+00 -2.507433e+00     -1.607445e+00         -2.921854e-01   \n",
      "25%   -7.005800e-01 -6.978945e-01     -7.490729e-01         -2.921854e-01   \n",
      "50%    0.000000e+00 -1.931752e-02     -6.397655e-16         -2.921854e-01   \n",
      "75%    5.611017e-01  4.330672e-01      7.935950e-01         -2.921854e-01   \n",
      "max    1.275736e+01  1.151649e+01      1.393855e+00          2.727881e+01   \n",
      "\n",
      "          tax_liens  total_bal_ex_mort  total_bc_limit    loan_status  \n",
      "count  1.881800e+05       1.881800e+05    1.881800e+05  188179.000000  \n",
      "mean  -1.142763e-13       4.855423e-16    5.503202e-17       0.157669  \n",
      "std    1.000003e+00       1.000003e+00    1.000003e+00       0.364431  \n",
      "min   -5.812548e-02      -1.089261e+00   -1.093757e+00       0.000000  \n",
      "25%   -5.812548e-02      -5.948703e-01   -6.560062e-01       0.000000  \n",
      "50%   -5.812548e-02      -2.187683e-01   -2.614898e-01       0.000000  \n",
      "75%   -5.812548e-02       2.461395e-01    2.951567e-01       0.000000  \n",
      "max    2.193653e+02       6.608032e+01    2.712822e+01       1.000000  \n",
      "\n",
      "[8 rows x 44 columns]\n"
     ]
    }
   ],
   "source": [
    "print(data_clean.describe())"
   ]
  },
  {
   "cell_type": "code",
   "execution_count": 124,
   "metadata": {},
   "outputs": [
    {
     "data": {
      "image/png": "[encoded data removed]",
      "text/plain": [
       "<Figure size 432x288 with 1 Axes>"
      ]
     },
     "metadata": {
      "needs_background": "light"
     },
     "output_type": "display_data"
    },
    {
     "name": "stdout",
     "output_type": "stream",
     "text": [
      "Index(['loan_amnt', 'term', 'int_rate', 'installment', 'grade', 'emp_length',\n",
      "       'home_ownership', 'annual_inc', 'verification_status', 'issue_d',\n",
      "       'purpose', 'addr_state', 'delinq_2yrs', 'inq_last_6mths', 'open_acc',\n",
      "       'pub_rec', 'revol_bal', 'total_acc', 'total_pymnt', 'total_rec_prncp',\n",
      "       'total_rec_int', 'last_pymnt_amnt', 'collections_12_mths_ex_med',\n",
      "       'acc_now_delinq', 'tot_coll_amt', 'tot_cur_bal', 'total_rev_hi_lim',\n",
      "       'acc_open_past_24mths', 'avg_cur_bal', 'bc_open_to_buy', 'bc_util',\n",
      "       'chargeoff_within_12_mths', 'mo_sin_old_il_acct',\n",
      "       'mo_sin_old_rev_tl_op', 'mo_sin_rcnt_rev_tl_op', 'mo_sin_rcnt_tl',\n",
      "       'mort_acc', 'mths_since_recent_bc', 'mths_since_recent_inq',\n",
      "       'num_accts_ever_120_pd', 'num_actv_bc_tl', 'num_actv_rev_tl',\n",
      "       'num_bc_sats', 'num_bc_tl', 'num_il_tl', 'num_op_rev_tl',\n",
      "       'num_rev_accts', 'num_rev_tl_bal_gt_0', 'num_sats', 'num_tl_120dpd_2m',\n",
      "       'num_tl_30dpd', 'num_tl_90g_dpd_24m', 'num_tl_op_past_12m',\n",
      "       'pct_tl_nvr_dlq', 'percent_bc_gt_75', 'pub_rec_bankruptcies',\n",
      "       'tot_hi_cred_lim', 'total_bal_ex_mort', 'total_bc_limit',\n",
      "       'total_il_high_credit_limit', 'loan_status'],\n",
      "      dtype='object')\n"
     ]
    }
   ],
   "source": [
    "data['loan_status'] = data['loan_status'].apply(lambda x: int(x))\n",
    "plt.hist(data['loan_status'], bins = [0,1]) \n",
    "plt.title(\"histogram\") \n",
    "\n",
    "plt.show()\n",
    "print(data_clean.columns)"
   ]
  },
  {
   "cell_type": "code",
   "execution_count": 2,
   "metadata": {},
   "outputs": [
    {
     "name": "stderr",
     "output_type": "stream",
     "text": [
      "/anaconda3/lib/python3.7/site-packages/IPython/core/interactiveshell.py:3049: DtypeWarning: Columns (417) have mixed types. Specify dtype option on import or set low_memory=False.\n",
      "  interactivity=interactivity, compiler=compiler, result=result)\n"
     ]
    },
    {
     "name": "stdout",
     "output_type": "stream",
     "text": [
      "(105471, 771)\n",
      "(210944, 770)\n"
     ]
    }
   ],
   "source": [
    "import pandas as pd\n",
    "data = pd.read_csv('loan-default-prediction/train_v2.csv')\n",
    "data1 = pd.read_csv('loan-default-prediction/test_v2.csv')\n",
    "\n",
    "print(data.shape)\n",
    "print(data1.shape)"
   ]
  },
  {
   "cell_type": "code",
   "execution_count": 13,
   "metadata": {},
   "outputs": [
    {
     "name": "stdout",
     "output_type": "stream",
     "text": [
      "(188180,)\n",
      "[0 0 0 ... 0 0 1]\n",
      "151.50972473163992\n",
      "151.27484323520034\n",
      "151.5687108088001\n",
      "151.6197257944521\n",
      "151.49962801572963\n",
      "151.4964395791264\n",
      "151.4789031778085\n",
      "28.380274205547877\n",
      "151.3540227441811\n",
      "151.09150813051332\n"
     ]
    }
   ],
   "source": [
    "import numpy as np\n",
    "import pandas as pd\n",
    "import keras\n",
    "from sklearn.model_selection import train_test_split\n",
    "from sklearn.model_selection import StratifiedKFold\n",
    "from keras.utils import to_categorical\n",
    "data = pd.read_csv('loanCleaned.csv')\n",
    "fields = data.columns.values[:-1]\n",
    "X = data[fields].values\n",
    "data['loan_status'] = data['loan_status'].apply(lambda x:int(x))\n",
    "y = data['loan_status'].values\n",
    "Y = y\n",
    "print(y.T.shape)\n",
    "print(y)\n",
    "X_train, X_temp, y_train,y_temp = train_test_split(X,y, test_size=0.4)\n",
    "X_test, X_valid, y_test, y_valid =  train_test_split(X,y,test_size=0.5)\n",
    "model = keras.Sequential([\n",
    "        keras.layers.Dense(44, input_shape=(44,),activation='relu'),\n",
    "        keras.layers.Dense(64, activation='relu'),\n",
    "        keras.layers.Dense(2,activation='softmax')\n",
    "        ])\n",
    "model.compile(optimizer='rmsprop',\n",
    "              loss='categorical_crossentropy',\n",
    "              metrics=['accuracy'])\n",
    "\n",
    "# kfold = StratifiedKFold(n_splits=10, shuffle=True)\n",
    "# cvscores = []\n",
    "# for train, test in kfold.split(X, y):\n",
    "\n",
    "kfold = StratifiedKFold(n_splits=10, shuffle=True)\n",
    "cvscores = []\n",
    "for train, test in kfold.split(X, Y):\n",
    "    X_train = X[train]\n",
    "    y_train = Y[train]\n",
    "    X_test = X[test]\n",
    "    y_test = Y[test]\n",
    "    y_train = to_categorical(y_train)\n",
    "    y_test = to_categorical(y_test)\n",
    "    model = keras.Sequential([\n",
    "        keras.layers.Dense(44, input_shape=(61,),activation='relu'),\n",
    "        keras.layers.Dense(64, activation='relu'),\n",
    "        keras.layers.Dense(2,activation='softmax')\n",
    "        ])\n",
    "    model.compile(optimizer='sgd',\n",
    "              loss='categorical_crossentropy',\n",
    "              metrics=['accuracy'])\n",
    "    \n",
    "    model.fit(X_train, y_train, epochs=30, batch_size=10000, verbose=0)\n",
    "    y_pred = model.predict(X_train)\n",
    "    print((np.sum(y_pred==y_train)/len(y))*100)\n",
    "    cvscores.append(np.sum(y_pred==y_train)/len(y)*100)\n",
    "    "
   ]
  },
  {
   "cell_type": "code",
   "execution_count": null,
   "metadata": {},
   "outputs": [],
   "source": [
    "from sklearn.svm import SVC\n",
    "cvscores = []\n",
    "kf  = KFold(n_splits=10)\n",
    "for train_index, test_index in kf.split(X_train_test):\n",
    "    X_train, X_test = X_train_test[train_index], X_train_test[test_index]\n",
    "    y_train, y_test = y_train_test[train_index], y_train_test[test_index]\n",
    "    svm = SVC(gamma='auto')\n",
    "    svm.fit(X_train, y_train)\n",
    "    y_pred = svm.predict(X_test)\n",
    "    print(accuracy_score(y_test, y_pred))\n",
    "\n",
    "# for train, test in kfold.split(X, Y):\n",
    "#     X_train = X[train]\n",
    "#     y_train = Y[train]\n",
    "#     X_test = X[test]\n",
    "#     y_test = Y[test]\n",
    "#     svm = SVC(gamma='auto')\n",
    "#     svm.fit(X_train, y_train)\n",
    "    \n",
    "#     y_pred = svm.predict(X_test)\n",
    "#     print((np.sum(y_pred==y_test)/len(y))*100)\n",
    "#     cvscores.append(np.sum(y_pred==y_test)/len(y)*100)\n",
    "    "
   ]
  },
  {
   "cell_type": "code",
   "execution_count": null,
   "metadata": {},
   "outputs": [],
   "source": [
    "import numpy as np\n",
    "import pandas as pd\n",
    "import keras\n",
    "from sklearn.model_selection import train_test_split\n",
    "from sklearn.linear_model import LogisticRegression\n",
    "from sklearn.metrics import accuracy_score\n",
    "from sklearn.model_selection import KFold\n",
    "\n",
    "data = pd.read_csv('loanCleaned.csv')\n",
    "fields = data.columns.values[:-1]\n",
    "X = data[fields].values\n",
    "data['loan_status'] = data['loan_status'].apply(lambda x:int(x))\n",
    "y = data['loan_status'].values\n",
    "scores = []\n",
    "X_train_test, X_validation, y_train_test, y_validation = train_test_split(X,y, test_size=0.2)\n",
    "# kf  = KFold(n_splits=10)\n",
    "# for train_index, test_index in kf.split(X_train_test):\n",
    "#     print(len(X_train)/len(X_train_test),\",\")\n",
    "#     X_train, X_test = X_train_test[train_index], X_train_test[test_index]\n",
    "#     y_train, y_test = y_train_test[train_index], y_train_test[test_index]\n",
    "#     model = LogisticRegression().fit(X_train, y_train)\n",
    "#     y_pred = model.predict(X_test)\n",
    "#     scores.append(accuracy_score(y_test, y_pred)*100)\n",
    "# print(np.array(scores).mean())\n",
    "\n",
    "# solvers = ['newton-cg', 'lbfgs', 'liblinear', 'sag', 'saga']\n",
    "# scores_solvers = []\n",
    "# for s in solvers:\n",
    "#         model = LogisticRegression(solver=s).fit(X_train_test, y_train_test)\n",
    "#         y_pred = model.predict(X_validation)\n",
    "#         scores_solvers.append(accuracy_score(y_validation, y_pred)*100)\n",
    "\n",
    "# plt.plot(solvers, scores_solvers)\n",
    "# plt.xlabel('Different solvers used in logistic regression')\n",
    "# plt.ylabel('Accuracy')\n",
    "# plt.show()\n",
    "model = LogisticRegression()\n",
    "scores = cross_val_score(model, X,y, cv=10)\n",
    "print(scores*100)\n",
    "\n",
    "# print(y)\n",
    "# X_train, X_temp, y_train,y_temp = train_test_split(X,y, test_size=0.4)\n",
    "# X_test, X_valid, y_test, y_valid =  train_test_split(X,y,test_size=0.5)\n",
    "\n"
   ]
  },
  {
   "cell_type": "code",
   "execution_count": null,
   "metadata": {},
   "outputs": [],
   "source": [
    "import numpy as np\n",
    "import pandas as pd\n",
    "import keras\n",
    "from sklearn.model_selection import train_test_split\n",
    "from sklearn.linear_model import LogisticRegression\n",
    "from sklearn.metrics import accuracy_score\n",
    "from sklearn.model_selection import KFold\n",
    "\n",
    "data = pd.read_csv('loanCleaned.csv')\n",
    "fields = data.columns.values[:-1]\n",
    "X = data[fields].values\n",
    "data['loan_status'] = data['loan_status'].apply(lambda x:int(x))\n",
    "y = data['loan_status'].values\n",
    "scores = []\n",
    "X_train_test, X_validation, y_train_test, y_validation = train_test_split(X,y, test_size=0.2)\n",
    "kf  = KFold(n_splits=10)\n",
    "for train_index, test_index in kf.split(X_train_test):\n",
    "    X_train, X_test = X_train_test[train_index], X_train_test[test_index]\n",
    "    y_train, y_test = y_train_test[train_index], y_train_test[test_index]\n",
    "    y_train = to_categorical(y_train)\n",
    "    y_test = to_categorical(y_test)\n",
    "    model = keras.Sequential([\n",
    "        keras.layers.Dense(44, input_shape=(44,),activation='relu'),\n",
    "        keras.layers.Dense(64, activation='relu'),\n",
    "        keras.layers.Dense(2,activation='softmax')\n",
    "        ])\n",
    "    model.compile(optimizer='sgd',\n",
    "              loss='categorical_crossentropy',\n",
    "              metrics=['accuracy'])\n",
    "    \n",
    "    model.fit(X_train, y_train, epochs=30, batch_size=10000, verbose=0)\n",
    "    y_pred = model.predict(X_test)\n",
    "    score = accuracy_score(np.argmax(y_test,axis=1), np.argmax(y_pred,axis=1))*100\n",
    "    print(score)\n",
    "    scores.append(score)\n",
    "print(np.array(scores).mean())"
   ]
  },
  {
   "cell_type": "code",
   "execution_count": 35,
   "metadata": {},
   "outputs": [
    {
     "name": "stdout",
     "output_type": "stream",
     "text": [
      "[1 0]\n"
     ]
    }
   ],
   "source": [
    "a = []\n",
    "a.append([1,2])\n",
    "a.append([4,3])\n",
    "print(np.argmax(np.array(a), axis=1))"
   ]
  },
  {
   "cell_type": "code",
   "execution_count": 45,
   "metadata": {},
   "outputs": [
    {
     "data": {
      "image/png": "[encoded data removed]",
      "text/plain": [
       "<Figure size 432x288 with 1 Axes>"
      ]
     },
     "metadata": {
      "needs_background": "light"
     },
     "output_type": "display_data"
    }
   ],
   "source": [
    "plt.bar([\"ANN\", \"LG\"], [63.7,84.2])\n",
    "plt.ylabel('Average accuracy')\n",
    "plt.xlabel('Models')\n",
    "plt.show()"
   ]
  },
  {
   "cell_type": "code",
   "execution_count": 11,
   "metadata": {},
   "outputs": [
    {
     "name": "stdout",
     "output_type": "stream",
     "text": [
      "(135489, 44)\n"
     ]
    },
    {
     "name": "stderr",
     "output_type": "stream",
     "text": [
      "/usr/local/lib/python3.7/site-packages/ipykernel_launcher.py:20: RuntimeWarning: overflow encountered in exp\n"
     ]
    },
    {
     "name": "stdout",
     "output_type": "stream",
     "text": [
      "(135489, 44)\n",
      "(135489, 44)\n",
      "(135489, 44)\n",
      "(135490, 44)\n",
      "(135490, 44)\n",
      "(135490, 44)\n",
      "(135490, 44)\n",
      "(135490, 44)\n",
      "(135490, 44)\n"
     ]
    }
   ],
   "source": [
    "#Implementation of logistic regression\n",
    "import math\n",
    "import numpy as np\n",
    "import pandas as pd\n",
    "import keras\n",
    "from tqdm import tqdm\n",
    "from sklearn.model_selection import train_test_split\n",
    "from sklearn.linear_model import LogisticRegression\n",
    "from sklearn.metrics import accuracy_score\n",
    "from sklearn.model_selection import KFold\n",
    "from numpy import vstack\n",
    "data = pd.read_csv('loanCleaned.csv')\n",
    "fields = data.columns.values[:-1]\n",
    "X = data[fields].values\n",
    "data['loan_status'] = data['loan_status'].apply(lambda x:int(x))\n",
    "y = data['loan_status'].values\n",
    "scores = []\n",
    "X_train_test, X_validation, y_train_test, y_validation = train_test_split(X,y, test_size=0.2)\n",
    "\n",
    "def sigmoid(z):\n",
    "    temp = 1 + (np.exp(-z))\n",
    "    return 1/temp\n",
    "def hypothesis(theta, x):\n",
    "    \n",
    "    if(sigmoid(np.dot(theta,x))<0.5):\n",
    "        return 0\n",
    "    else:\n",
    "        return 1\n",
    "def gradient(x,theta,y):\n",
    "    h = []\n",
    "    for i in x:\n",
    "        h.append(hypothesis(theta,i))\n",
    "    h = np.array(h)\n",
    "    error = np.dot(x.T, (h-y))/y.shape[0]\n",
    "    return np.array(error)\n",
    "def gradient_descent(X,y,theta):\n",
    "    alpha = 0.1\n",
    "    num_iter = 20\n",
    "    for i in range(num_iter):\n",
    "        e = gradient(X,theta,y)\n",
    "        theta = theta - alpha * e\n",
    "    return theta, num_iter\n",
    "def predict(theta, X):\n",
    "    h = []\n",
    "    temp = np.ones(len(X)).reshape(len(X),1)\n",
    "    X = vstack((temp.T,X.T)).T\n",
    "    for i in X:\n",
    "        h.append(hypothesis(theta,i))\n",
    "    h = np.array(h)\n",
    "    return h\n",
    "def logistic_reg(X, y, X_test):\n",
    "    temp = np.ones(len(X)).reshape(len(X),1)\n",
    "    X = vstack((temp.T,X.T)).T\n",
    "    theta = np.ones(X.shape[1])\n",
    "    theta, num_iter = gradient_descent(X,y,theta)\n",
    "    y_pred = predict(theta,X_test)\n",
    "    return theta,y_pred\n",
    "\n",
    "\n",
    "kf  = KFold(n_splits=10)\n",
    "for train_index, test_index in kf.split(X_train_test):\n",
    "    X_train, X_test = X_train_test[train_index], X_train_test[test_index]\n",
    "    y_train, y_test = y_train_test[train_index], y_train_test[test_index]\n",
    "    theta, y_pred = logistic_reg(X_train, y_train, X_test)\n",
    "    scores.append(accuracy_score(y_test, y_pred))\n",
    "print(np.array(scores)*100)"
   ]
  },
  {
   "cell_type": "code",
   "execution_count": 14,
   "metadata": {},
   "outputs": [
    {
     "name": "stdout",
     "output_type": "stream",
     "text": [
      "[84.21122551 83.78611757 83.95217536 84.33078711 84.64195563 84.38953102\n",
      " 84.15703468 84.60209911 83.93118108 83.71197024]\n"
     ]
    }
   ],
   "source": [
    "print(np.array(scores)*100)"
   ]
  },
  {
   "cell_type": "code",
   "execution_count": 15,
   "metadata": {},
   "outputs": [
    {
     "ename": "NameError",
     "evalue": "name 'to_categorical' is not defined",
     "output_type": "error",
     "traceback": [
      "\u001b[0;31m---------------------------------------------------------------------------\u001b[0m",
      "\u001b[0;31mNameError\u001b[0m                                 Traceback (most recent call last)",
      "\u001b[0;32m<ipython-input-15-ec9e1817f3ca>\u001b[0m in \u001b[0;36m<module>\u001b[0;34m\u001b[0m\n\u001b[1;32m     14\u001b[0m     \u001b[0mX_train\u001b[0m\u001b[0;34m,\u001b[0m \u001b[0mX_test\u001b[0m \u001b[0;34m=\u001b[0m \u001b[0mX_train_test\u001b[0m\u001b[0;34m[\u001b[0m\u001b[0mtrain_index\u001b[0m\u001b[0;34m]\u001b[0m\u001b[0;34m,\u001b[0m \u001b[0mX_train_test\u001b[0m\u001b[0;34m[\u001b[0m\u001b[0mtest_index\u001b[0m\u001b[0;34m]\u001b[0m\u001b[0;34m\u001b[0m\u001b[0;34m\u001b[0m\u001b[0m\n\u001b[1;32m     15\u001b[0m     \u001b[0my_train\u001b[0m\u001b[0;34m,\u001b[0m \u001b[0my_test\u001b[0m \u001b[0;34m=\u001b[0m \u001b[0my_train_test\u001b[0m\u001b[0;34m[\u001b[0m\u001b[0mtrain_index\u001b[0m\u001b[0;34m]\u001b[0m\u001b[0;34m,\u001b[0m \u001b[0my_train_test\u001b[0m\u001b[0;34m[\u001b[0m\u001b[0mtest_index\u001b[0m\u001b[0;34m]\u001b[0m\u001b[0;34m\u001b[0m\u001b[0;34m\u001b[0m\u001b[0m\n\u001b[0;32m---> 16\u001b[0;31m     \u001b[0my_train\u001b[0m \u001b[0;34m=\u001b[0m \u001b[0mto_categorical\u001b[0m\u001b[0;34m(\u001b[0m\u001b[0my_train\u001b[0m\u001b[0;34m)\u001b[0m\u001b[0;34m\u001b[0m\u001b[0;34m\u001b[0m\u001b[0m\n\u001b[0m\u001b[1;32m     17\u001b[0m     \u001b[0my_test\u001b[0m \u001b[0;34m=\u001b[0m \u001b[0mto_categorical\u001b[0m\u001b[0;34m(\u001b[0m\u001b[0my_test\u001b[0m\u001b[0;34m)\u001b[0m\u001b[0;34m\u001b[0m\u001b[0;34m\u001b[0m\u001b[0m\n\u001b[1;32m     18\u001b[0m     model = keras.Sequential([\n",
      "\u001b[0;31mNameError\u001b[0m: name 'to_categorical' is not defined"
     ]
    }
   ],
   "source": [
    "#ANN using PCA\n",
    "from sklearn.decomposition import PCA\n",
    "data = pd.read_csv('loanCleaned.csv')\n",
    "fields = data.columns.values[:-1]\n",
    "X = data[fields].values\n",
    "data['loan_status'] = data['loan_status'].apply(lambda x:int(x))\n",
    "y = data['loan_status'].values\n",
    "pca = PCA(n_components = 20)\n",
    "X_pca = pca.fit_transform(X)\n",
    "scores = []\n",
    "X_train_test, X_validation, y_train_test, y_validation = train_test_split(X_pca,y, test_size=0.2)\n",
    "kf  = KFold(n_splits=10)\n",
    "for train_index, test_index in kf.split(X_train_test):\n",
    "    X_train, X_test = X_train_test[train_index], X_train_test[test_index]\n",
    "    y_train, y_test = y_train_test[train_index], y_train_test[test_index]\n",
    "    y_train = to_categorical(y_train)\n",
    "    y_test = to_categorical(y_test)\n",
    "    model = keras.Sequential([\n",
    "        keras.layers.Dense(44, input_shape=(44,),activation='relu'),\n",
    "        keras.layers.Dense(64, activation='relu'),\n",
    "        keras.layers.Dense(2,activation='softmax')\n",
    "        ])\n",
    "    model.compile(optimizer='sgd',\n",
    "              loss='categorical_crossentropy',\n",
    "              metrics=['accuracy'])\n",
    "    \n",
    "    model.fit(X_train, y_train, epochs=30, batch_size=10000, verbose=0)\n",
    "    y_pred = model.predict(X_test)\n",
    "    score = accuracy_score(np.argmax(y_test,axis=1), np.argmax(y_pred,axis=1))*100\n",
    "    print(score)\n",
    "    scores.append(score)\n",
    "print(np.array(scores).mean())"
   ]
  },
  {
   "cell_type": "code",
   "execution_count": null,
   "metadata": {},
   "outputs": [],
   "source": []
  }
 ],
 "metadata": {
  "kernelspec": {
   "display_name": "Python 3",
   "language": "python",
   "name": "python3"
  },
  "language_info": {
   "codemirror_mode": {
    "name": "ipython",
    "version": 3
   },
   "file_extension": ".py",
   "mimetype": "text/x-python",
   "name": "python",
   "nbconvert_exporter": "python",
   "pygments_lexer": "ipython3",
   "version": "3.7.3"
  }
 },
 "nbformat": 4,
 "nbformat_minor": 2
}
